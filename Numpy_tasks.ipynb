{
  "cells": [
    {
      "cell_type": "markdown",
      "metadata": {
        "id": "view-in-github",
        "colab_type": "text"
      },
      "source": [
        "<a href=\"https://colab.research.google.com/github/vigneshjv09/numpytasks/blob/main/Numpy_tasks.ipynb\" target=\"_parent\"><img src=\"https://colab.research.google.com/assets/colab-badge.svg\" alt=\"Open In Colab\"/></a>"
      ]
    },
    {
      "cell_type": "markdown",
      "metadata": {
        "id": "mPAZir8TGNES"
      },
      "source": [
        "# Numpy\n",
        "\n"
      ]
    },
    {
      "cell_type": "markdown",
      "metadata": {
        "id": "08GCmNLlGNEg"
      },
      "source": [
        "#### 1. Import the numpy package under the name `np` (★☆☆) \n",
        "(**hint**: import … as …)"
      ]
    },
    {
      "cell_type": "code",
      "execution_count": null,
      "metadata": {
        "collapsed": true,
        "id": "rzOkB-tKGNEj"
      },
      "outputs": [],
      "source": [
        "import numpy as np"
      ]
    },
    {
      "cell_type": "markdown",
      "metadata": {
        "id": "rmApDubvGNEn"
      },
      "source": [
        "#### 2. Print the numpy version and the configuration (★☆☆) \n",
        "(**hint**: np.\\_\\_version\\_\\_, np.show\\_config)"
      ]
    },
    {
      "cell_type": "code",
      "execution_count": null,
      "metadata": {
        "id": "bzQcOivPGNEp",
        "outputId": "73a80dc8-feb7-43ea-9a3c-1a5e3843c4f1",
        "colab": {
          "base_uri": "https://localhost:8080/"
        }
      },
      "outputs": [
        {
          "output_type": "stream",
          "name": "stdout",
          "text": [
            "1.21.6\n"
          ]
        }
      ],
      "source": [
        "print(np.__version__)\n"
      ]
    },
    {
      "cell_type": "markdown",
      "metadata": {
        "id": "nCIvqcznGNEq"
      },
      "source": [
        "#### 3. Create a null vector of size 10 (★☆☆) \n",
        "(**hint**: np.zeros)"
      ]
    },
    {
      "cell_type": "code",
      "execution_count": null,
      "metadata": {
        "id": "28uZbuyFGNEr",
        "outputId": "45194dc2-5ad8-4a51-8fd0-5455aa945f21",
        "colab": {
          "base_uri": "https://localhost:8080/"
        }
      },
      "outputs": [
        {
          "output_type": "stream",
          "name": "stdout",
          "text": [
            "[0. 0. 0. 0. 0. 0. 0. 0. 0. 0.]\n"
          ]
        }
      ],
      "source": [
        "null_vector=np.zeros(10)\n",
        "print(null_vector)"
      ]
    },
    {
      "cell_type": "markdown",
      "metadata": {
        "id": "7NjbdeC_GNEt"
      },
      "source": [
        "#### 4.  How to find the memory size of any array (★☆☆) \n",
        "(**hint**: size, itemsize)"
      ]
    },
    {
      "cell_type": "code",
      "execution_count": null,
      "metadata": {
        "id": "rFS2OaZzGNEv",
        "outputId": "2b1d8038-b32c-47db-e3e8-61e7c5fa0a9c",
        "colab": {
          "base_uri": "https://localhost:8080/"
        }
      },
      "outputs": [
        {
          "output_type": "stream",
          "name": "stdout",
          "text": [
            "24\n"
          ]
        }
      ],
      "source": [
        "x=np.array([100,20,34])\n",
        "print(x.size*x.itemsize)"
      ]
    },
    {
      "cell_type": "markdown",
      "metadata": {
        "id": "zObeaETIGNE0"
      },
      "source": [
        "#### 5.  How to get the documentation of the numpy add function from the command line? (★☆☆) \n",
        "(**hint**: np.info)"
      ]
    },
    {
      "cell_type": "code",
      "execution_count": null,
      "metadata": {
        "collapsed": true,
        "id": "jZUKFUlWGNE5",
        "outputId": "e906a312-5126-45d2-cd12-734fa8d3886e",
        "colab": {
          "base_uri": "https://localhost:8080/"
        }
      },
      "outputs": [
        {
          "output_type": "stream",
          "name": "stdout",
          "text": [
            "add(x1, x2, /, out=None, *, where=True, casting='same_kind', order='K', dtype=None, subok=True[, signature, extobj])\n",
            "\n",
            "Add arguments element-wise.\n",
            "\n",
            "Parameters\n",
            "----------\n",
            "x1, x2 : array_like\n",
            "    The arrays to be added.\n",
            "    If ``x1.shape != x2.shape``, they must be broadcastable to a common\n",
            "    shape (which becomes the shape of the output).\n",
            "out : ndarray, None, or tuple of ndarray and None, optional\n",
            "    A location into which the result is stored. If provided, it must have\n",
            "    a shape that the inputs broadcast to. If not provided or None,\n",
            "    a freshly-allocated array is returned. A tuple (possible only as a\n",
            "    keyword argument) must have length equal to the number of outputs.\n",
            "where : array_like, optional\n",
            "    This condition is broadcast over the input. At locations where the\n",
            "    condition is True, the `out` array will be set to the ufunc result.\n",
            "    Elsewhere, the `out` array will retain its original value.\n",
            "    Note that if an uninitialized `out` array is created via the default\n",
            "    ``out=None``, locations within it where the condition is False will\n",
            "    remain uninitialized.\n",
            "**kwargs\n",
            "    For other keyword-only arguments, see the\n",
            "    :ref:`ufunc docs <ufuncs.kwargs>`.\n",
            "\n",
            "Returns\n",
            "-------\n",
            "add : ndarray or scalar\n",
            "    The sum of `x1` and `x2`, element-wise.\n",
            "    This is a scalar if both `x1` and `x2` are scalars.\n",
            "\n",
            "Notes\n",
            "-----\n",
            "Equivalent to `x1` + `x2` in terms of array broadcasting.\n",
            "\n",
            "Examples\n",
            "--------\n",
            ">>> np.add(1.0, 4.0)\n",
            "5.0\n",
            ">>> x1 = np.arange(9.0).reshape((3, 3))\n",
            ">>> x2 = np.arange(3.0)\n",
            ">>> np.add(x1, x2)\n",
            "array([[  0.,   2.,   4.],\n",
            "       [  3.,   5.,   7.],\n",
            "       [  6.,   8.,  10.]])\n",
            "\n",
            "The ``+`` operator can be used as a shorthand for ``np.add`` on ndarrays.\n",
            "\n",
            ">>> x1 = np.arange(9.0).reshape((3, 3))\n",
            ">>> x2 = np.arange(3.0)\n",
            ">>> x1 + x2\n",
            "array([[ 0.,  2.,  4.],\n",
            "       [ 3.,  5.,  7.],\n",
            "       [ 6.,  8., 10.]])\n",
            "None\n"
          ]
        }
      ],
      "source": [
        "print(np.info(np.add))"
      ]
    },
    {
      "cell_type": "markdown",
      "metadata": {
        "id": "ctc1O3sWGNE6"
      },
      "source": [
        "#### 6.  Create a null vector of size 10 but the fifth value which is 1 (★☆☆) \n",
        "(**hint**: array\\[4\\])"
      ]
    },
    {
      "cell_type": "code",
      "execution_count": null,
      "metadata": {
        "id": "LRK9coE_GNE7"
      },
      "outputs": [],
      "source": [
        "x=np.zeros(10)\n",
        "x[4]=1"
      ]
    },
    {
      "cell_type": "markdown",
      "metadata": {
        "id": "60JglusyGNE9"
      },
      "source": [
        "#### 7.  Create a vector with values ranging from 10 to 49 (★☆☆) \n",
        "(**hint**: np.arange)"
      ]
    },
    {
      "cell_type": "code",
      "execution_count": null,
      "metadata": {
        "id": "Q5mTeAsLGNFC",
        "outputId": "ba52b12d-1464-47e3-a400-12f6e4b5b10d",
        "colab": {
          "base_uri": "https://localhost:8080/"
        }
      },
      "outputs": [
        {
          "output_type": "stream",
          "name": "stdout",
          "text": [
            "[10 11 12 13 14 15 16 17 18 19 20 21 22 23 24 25 26 27 28 29 30 31 32 33\n",
            " 34 35 36 37 38 39 40 41 42 43 44 45 46 47 48]\n"
          ]
        }
      ],
      "source": [
        "print(np.arange(10,49))"
      ]
    },
    {
      "cell_type": "markdown",
      "metadata": {
        "id": "Krpb8xLOGNFE"
      },
      "source": [
        "#### 8.  Reverse a vector (first element becomes last) (★☆☆) \n",
        "(**hint**: array\\[::-1\\])"
      ]
    },
    {
      "cell_type": "code",
      "execution_count": null,
      "metadata": {
        "id": "OCE_GHESGNFI",
        "outputId": "883665e4-bea3-40a5-909c-aae55cb37f83",
        "colab": {
          "base_uri": "https://localhost:8080/"
        }
      },
      "outputs": [
        {
          "output_type": "stream",
          "name": "stdout",
          "text": [
            "[48 47 46 45 44 43 42 41 40 39 38 37 36 35 34 33 32 31 30 29 28 27 26 25\n",
            " 24 23 22 21 20 19 18 17 16 15 14 13 12 11 10]\n"
          ]
        }
      ],
      "source": [
        "x=np.arange(10,49)\n",
        "print(x[::-1])"
      ]
    },
    {
      "cell_type": "markdown",
      "metadata": {
        "id": "dtoqea-wGNFL"
      },
      "source": [
        "#### 9.  Create a 3x3 matrix with values ranging from 0 to 8 (★☆☆) \n",
        "(**hint**: reshape)"
      ]
    },
    {
      "cell_type": "code",
      "execution_count": null,
      "metadata": {
        "id": "PXeomYN8GNFM",
        "outputId": "637e164c-9085-42e1-e6bd-4d782f81bc6d",
        "colab": {
          "base_uri": "https://localhost:8080/"
        }
      },
      "outputs": [
        {
          "output_type": "execute_result",
          "data": {
            "text/plain": [
              "array([[0, 1, 2],\n",
              "       [3, 4, 5],\n",
              "       [6, 7, 8]])"
            ]
          },
          "metadata": {},
          "execution_count": 16
        }
      ],
      "source": [
        "x=np.arange(9)\n",
        "x.reshape(3,3)\n"
      ]
    },
    {
      "cell_type": "markdown",
      "metadata": {
        "id": "YUJTTbiwGNFN"
      },
      "source": [
        "#### 10. Find indices of non-zero elements from \\[1,2,0,0,4,0\\] (★☆☆) \n",
        "(**hint**: np.nonzero)"
      ]
    },
    {
      "cell_type": "code",
      "execution_count": null,
      "metadata": {
        "id": "jNScvqnFGNFP",
        "outputId": "479f458f-e6c6-4bad-d89d-8d25a070ac77",
        "colab": {
          "base_uri": "https://localhost:8080/"
        }
      },
      "outputs": [
        {
          "output_type": "execute_result",
          "data": {
            "text/plain": [
              "(array([0, 1, 4]),)"
            ]
          },
          "metadata": {},
          "execution_count": 17
        }
      ],
      "source": [
        "x=np.array([1,2,0,0,4,0])\n",
        "np.nonzero(x)"
      ]
    },
    {
      "cell_type": "markdown",
      "metadata": {
        "id": "4IIeLWW8GNFP"
      },
      "source": [
        "#### 11. Create a 3x3 identity matrix (★☆☆) \n",
        "(**hint**: np.eye)"
      ]
    },
    {
      "cell_type": "code",
      "execution_count": null,
      "metadata": {
        "id": "t7qrlhraGNFQ",
        "outputId": "d578e895-952e-4107-a373-92623861638d",
        "colab": {
          "base_uri": "https://localhost:8080/"
        }
      },
      "outputs": [
        {
          "output_type": "execute_result",
          "data": {
            "text/plain": [
              "array([[1., 0., 0.],\n",
              "       [0., 1., 0.],\n",
              "       [0., 0., 1.]])"
            ]
          },
          "metadata": {},
          "execution_count": 18
        }
      ],
      "source": [
        "x=np.eye(3)\n",
        "x"
      ]
    },
    {
      "cell_type": "markdown",
      "metadata": {
        "id": "G4TpnjiKGNFS"
      },
      "source": [
        "#### 12. Create a 3x3x3 array with random values (★☆☆) \n",
        "(**hint**: np.random.random)"
      ]
    },
    {
      "cell_type": "code",
      "execution_count": null,
      "metadata": {
        "collapsed": true,
        "id": "riycEek5GNFZ",
        "outputId": "ff9eb355-95da-49fd-af8d-b1db02d13f09",
        "colab": {
          "base_uri": "https://localhost:8080/"
        }
      },
      "outputs": [
        {
          "output_type": "execute_result",
          "data": {
            "text/plain": [
              "array([[[0.90750556, 0.78311904, 0.03458945],\n",
              "        [0.97750643, 0.09603922, 0.00380084],\n",
              "        [0.23179618, 0.60844087, 0.35257916]],\n",
              "\n",
              "       [[0.76095238, 0.1456298 , 0.28456945],\n",
              "        [0.90544772, 0.40706049, 0.28648286],\n",
              "        [0.62989046, 0.05535947, 0.87325288]],\n",
              "\n",
              "       [[0.69064013, 0.65864197, 0.30818825],\n",
              "        [0.24843871, 0.33177835, 0.91805957],\n",
              "        [0.86337191, 0.01645525, 0.59822511]]])"
            ]
          },
          "metadata": {},
          "execution_count": 20
        }
      ],
      "source": [
        "x=np.random.random((3,3,3))\n",
        "x"
      ]
    },
    {
      "cell_type": "markdown",
      "metadata": {
        "id": "LU3Id6frGNFa"
      },
      "source": [
        "#### 13. Create a 10x10 array with random values and find the minimum and maximum values (★☆☆) \n",
        "(**hint**: min, max)"
      ]
    },
    {
      "cell_type": "code",
      "execution_count": null,
      "metadata": {
        "id": "SZaQxJ0UGNFb",
        "outputId": "a508d3bb-0904-4e42-afbf-0489a96cb8ab",
        "colab": {
          "base_uri": "https://localhost:8080/"
        }
      },
      "outputs": [
        {
          "output_type": "stream",
          "name": "stdout",
          "text": [
            "0.004225356215061149 0.9995292303152764\n"
          ]
        }
      ],
      "source": [
        "x=np.random.random((10,10))\n",
        "x\n",
        "minx=x.min()\n",
        "maxx=x.max()\n",
        "print(minx,maxx)"
      ]
    },
    {
      "cell_type": "markdown",
      "metadata": {
        "id": "Iko-ruagGNFb"
      },
      "source": [
        "#### 14. Create a random vector of size 30 and find the mean value (★☆☆) \n",
        "(**hint**: mean)"
      ]
    },
    {
      "cell_type": "code",
      "execution_count": null,
      "metadata": {
        "id": "mZeRYxJjGNFc",
        "outputId": "ad4a7940-8737-47ec-969c-2cb6906affcf",
        "colab": {
          "base_uri": "https://localhost:8080/"
        }
      },
      "outputs": [
        {
          "output_type": "stream",
          "name": "stdout",
          "text": [
            "0.5330406555865956\n"
          ]
        }
      ],
      "source": [
        "x=np.random.random(30)\n",
        "print(x.mean())"
      ]
    },
    {
      "cell_type": "markdown",
      "metadata": {
        "id": "ZNTn1j3hGNFd"
      },
      "source": [
        "#### 15. Create a 2d array with 1 on the border and 0 inside (★☆☆) \n",
        "(**hint**: array\\[1:-1, 1:-1\\])"
      ]
    },
    {
      "cell_type": "code",
      "execution_count": null,
      "metadata": {
        "id": "eiduN2cFGNFd",
        "outputId": "0918f417-57ca-4366-8a5c-7de4f1a56b6b",
        "colab": {
          "base_uri": "https://localhost:8080/"
        }
      },
      "outputs": [
        {
          "output_type": "stream",
          "name": "stdout",
          "text": [
            "[[1. 1. 1. 1. 1. 1. 1. 1. 1. 1.]\n",
            " [1. 0. 0. 0. 0. 0. 0. 0. 0. 1.]\n",
            " [1. 0. 0. 0. 0. 0. 0. 0. 0. 1.]\n",
            " [1. 0. 0. 0. 0. 0. 0. 0. 0. 1.]\n",
            " [1. 0. 0. 0. 0. 0. 0. 0. 0. 1.]\n",
            " [1. 0. 0. 0. 0. 0. 0. 0. 0. 1.]\n",
            " [1. 0. 0. 0. 0. 0. 0. 0. 0. 1.]\n",
            " [1. 0. 0. 0. 0. 0. 0. 0. 0. 1.]\n",
            " [1. 0. 0. 0. 0. 0. 0. 0. 0. 1.]\n",
            " [1. 1. 1. 1. 1. 1. 1. 1. 1. 1.]]\n"
          ]
        }
      ],
      "source": [
        "x=np.ones((10,10))\n",
        "x[1:-1,1:-1]=0\n",
        "print(x)"
      ]
    },
    {
      "cell_type": "markdown",
      "metadata": {
        "id": "7-1OnkrsGNFe"
      },
      "source": [
        "#### 16. How to add a border (filled with 0's) around an existing array? (★☆☆) \n",
        "(**hint**: np.pad)"
      ]
    },
    {
      "cell_type": "code",
      "execution_count": null,
      "metadata": {
        "id": "EXjib6rXGNFf",
        "outputId": "f10e3d2c-63cd-4855-c653-f1cde66000e8",
        "colab": {
          "base_uri": "https://localhost:8080/"
        }
      },
      "outputs": [
        {
          "output_type": "stream",
          "name": "stdout",
          "text": [
            "[[0. 0. 0. 0. 0. 0. 0.]\n",
            " [0. 1. 1. 1. 1. 1. 0.]\n",
            " [0. 1. 1. 1. 1. 1. 0.]\n",
            " [0. 1. 1. 1. 1. 1. 0.]\n",
            " [0. 1. 1. 1. 1. 1. 0.]\n",
            " [0. 1. 1. 1. 1. 1. 0.]\n",
            " [0. 0. 0. 0. 0. 0. 0.]]\n"
          ]
        }
      ],
      "source": [
        "x=np.ones((5,5))\n",
        "x=np.pad(x,pad_width=1,mode='constant',constant_values=0)\n",
        "print(x)"
      ]
    },
    {
      "cell_type": "markdown",
      "metadata": {
        "id": "KAHwpV3cGNFf"
      },
      "source": [
        "#### 17. What is the result of the following expression? (★☆☆) \n",
        "(**hint**: NaN = not a number, inf = infinity)"
      ]
    },
    {
      "cell_type": "markdown",
      "metadata": {
        "id": "EvMFRbYNGNFg"
      },
      "source": [
        "```python\n",
        "0 * np.nan\n",
        "np.nan == np.nan\n",
        "np.inf > np.nan\n",
        "np.nan - np.nan\n",
        "0.3 == 3 * 0.1\n",
        "```"
      ]
    },
    {
      "cell_type": "code",
      "execution_count": null,
      "metadata": {
        "id": "24jxyNdNGNFh",
        "outputId": "196d374d-1c6d-4926-a8c1-e757ddf8d1fd",
        "colab": {
          "base_uri": "https://localhost:8080/",
          "height": 235
        }
      },
      "outputs": [
        {
          "output_type": "error",
          "ename": "NameError",
          "evalue": "ignored",
          "traceback": [
            "\u001b[0;31m---------------------------------------------------------------------------\u001b[0m",
            "\u001b[0;31mNameError\u001b[0m                                 Traceback (most recent call last)",
            "\u001b[0;32m<ipython-input-31-8efc388c1ba1>\u001b[0m in \u001b[0;36m<module>\u001b[0;34m\u001b[0m\n\u001b[0;32m----> 1\u001b[0;31m \u001b[0mnan\u001b[0m\u001b[0;34m\u001b[0m\u001b[0;34m\u001b[0m\u001b[0m\n\u001b[0m\u001b[1;32m      2\u001b[0m \u001b[0mfalse\u001b[0m\u001b[0;34m\u001b[0m\u001b[0;34m\u001b[0m\u001b[0m\n\u001b[1;32m      3\u001b[0m \u001b[0mfalse\u001b[0m\u001b[0;34m\u001b[0m\u001b[0;34m\u001b[0m\u001b[0m\n\u001b[1;32m      4\u001b[0m \u001b[0mnan\u001b[0m\u001b[0;34m\u001b[0m\u001b[0;34m\u001b[0m\u001b[0m\n\u001b[1;32m      5\u001b[0m \u001b[0mfalse\u001b[0m\u001b[0;34m\u001b[0m\u001b[0;34m\u001b[0m\u001b[0m\n",
            "\u001b[0;31mNameError\u001b[0m: name 'nan' is not defined"
          ]
        }
      ],
      "source": [
        "nan\n",
        "false\n",
        "false\n",
        "nan\n",
        "false\n",
        "nan"
      ]
    },
    {
      "cell_type": "markdown",
      "metadata": {
        "id": "V-SL3QlEGNFi"
      },
      "source": [
        "#### 18. Create a 5x5 matrix with values 1,2,3,4 just below the diagonal (★☆☆) \n",
        "(**hint**: np.diag)"
      ]
    },
    {
      "cell_type": "code",
      "execution_count": null,
      "metadata": {
        "id": "hwbWO0AIGNFi",
        "outputId": "9904159a-0356-4f00-e1f5-67635a056a66",
        "colab": {
          "base_uri": "https://localhost:8080/"
        }
      },
      "outputs": [
        {
          "output_type": "stream",
          "name": "stdout",
          "text": [
            "[[0 0 0 0 0]\n",
            " [1 0 0 0 0]\n",
            " [0 2 0 0 0]\n",
            " [0 0 3 0 0]\n",
            " [0 0 0 4 0]]\n"
          ]
        }
      ],
      "source": [
        "x=np.diag(1+np.arange(4),k=-1)\n",
        "print(x)"
      ]
    },
    {
      "cell_type": "markdown",
      "metadata": {
        "id": "wFoXIHkSGNFj"
      },
      "source": [
        "#### 19. Create a 8x8 matrix and fill it with a checkerboard pattern (★☆☆) \n",
        "(**hint**: array\\[::2\\])"
      ]
    },
    {
      "cell_type": "code",
      "execution_count": null,
      "metadata": {
        "id": "Iq1xBqt5GNFk",
        "outputId": "263fb4be-a3c5-4821-952b-f428aabf49d5",
        "colab": {
          "base_uri": "https://localhost:8080/"
        }
      },
      "outputs": [
        {
          "output_type": "stream",
          "name": "stdout",
          "text": [
            "[[0 1 0 1 0 1 0 1]\n",
            " [1 0 1 0 1 0 1 0]\n",
            " [0 1 0 1 0 1 0 1]\n",
            " [1 0 1 0 1 0 1 0]\n",
            " [0 1 0 1 0 1 0 1]\n",
            " [1 0 1 0 1 0 1 0]\n",
            " [0 1 0 1 0 1 0 1]\n",
            " [1 0 1 0 1 0 1 0]]\n"
          ]
        }
      ],
      "source": [
        "x=np.zeros((8,8),dtype=int)\n",
        "x[1::2,::2]=1\n",
        "x[::2,1::2]=1\n",
        "print(x)\n"
      ]
    },
    {
      "cell_type": "markdown",
      "metadata": {
        "id": "vjb2_OBjGNFk"
      },
      "source": [
        "#### 20. Consider a (6,7,8) shape array, what is the index (x,y,z) of the 100th element? \n",
        "(**hint**: np.unravel_index)"
      ]
    },
    {
      "cell_type": "code",
      "execution_count": null,
      "metadata": {
        "id": "p_v03_6NGNFl",
        "outputId": "67d8d20e-412e-4323-cf26-1ac82983916d",
        "colab": {
          "base_uri": "https://localhost:8080/"
        }
      },
      "outputs": [
        {
          "output_type": "stream",
          "name": "stdout",
          "text": [
            "(1, 5, 4)\n"
          ]
        }
      ],
      "source": [
        "print(np.unravel_index(100,(6,7,8)))"
      ]
    },
    {
      "cell_type": "markdown",
      "metadata": {
        "id": "CPR_tf1fGNFm"
      },
      "source": [
        "#### 21. Create a checkerboard 8x8 matrix using the tile function (★☆☆) \n",
        "(**hint**: np.tile)"
      ]
    },
    {
      "cell_type": "code",
      "execution_count": null,
      "metadata": {
        "id": "ju6EJzQXGNFn",
        "outputId": "57a562eb-4ac6-4dfe-b4ab-971783d0caa7",
        "colab": {
          "base_uri": "https://localhost:8080/"
        }
      },
      "outputs": [
        {
          "output_type": "stream",
          "name": "stdout",
          "text": [
            "[[0 1 0 1 0 1 0 1]\n",
            " [1 0 1 0 1 0 1 0]\n",
            " [0 1 0 1 0 1 0 1]\n",
            " [1 0 1 0 1 0 1 0]\n",
            " [0 1 0 1 0 1 0 1]\n",
            " [1 0 1 0 1 0 1 0]\n",
            " [0 1 0 1 0 1 0 1]\n",
            " [1 0 1 0 1 0 1 0]]\n"
          ]
        }
      ],
      "source": [
        "x=np.tile(np.array([[0,1],[1,0]]),(4,4))\n",
        "print(x)"
      ]
    },
    {
      "cell_type": "markdown",
      "metadata": {
        "id": "3oa--rk6GNFp"
      },
      "source": [
        "#### 22. Normalize a 5x5 random matrix (★☆☆) \n",
        "(**hint**: (x - min) / (max - min))"
      ]
    },
    {
      "cell_type": "code",
      "execution_count": null,
      "metadata": {
        "id": "7pfs-B7NGNFq",
        "outputId": "f996991f-68be-448e-cd29-a4d48426ea84",
        "colab": {
          "base_uri": "https://localhost:8080/"
        }
      },
      "outputs": [
        {
          "output_type": "stream",
          "name": "stdout",
          "text": [
            "[[0.08376831 0.91942034 0.33917413]\n",
            " [0.96841378 0.         0.42466644]\n",
            " [0.73436337 0.26808795 1.        ]]\n"
          ]
        }
      ],
      "source": [
        "x=np.random.random((3,3))\n",
        "xmax,xmin=x.max(),x.min()\n",
        "x=(x-xmin)/(xmax-xmin)\n",
        "print(x)"
      ]
    },
    {
      "cell_type": "markdown",
      "metadata": {
        "id": "LUHp8rfEGNFq"
      },
      "source": [
        "**italicized text**#### 23. Create a custom dtype that describes a color as four unsigned bytes (RGBA) (★☆☆) \n",
        "(**hint**: np.dtype)"
      ]
    },
    {
      "cell_type": "code",
      "execution_count": null,
      "metadata": {
        "collapsed": true,
        "id": "Wp4fyMWIGNFr",
        "outputId": "d7db221b-5078-4fbe-f7f7-48bdaefa96dd",
        "colab": {
          "base_uri": "https://localhost:8080/"
        }
      },
      "outputs": [
        {
          "output_type": "stream",
          "name": "stdout",
          "text": [
            "1\n"
          ]
        },
        {
          "output_type": "execute_result",
          "data": {
            "text/plain": [
              "numpy.ndarray"
            ]
          },
          "metadata": {},
          "execution_count": 38
        }
      ],
      "source": [
        "RGBA = np.dtype([('red',np.uint8),('green',np.uint8),('blue',np.uint8),('alpha',np.uint8)])\n",
        "color = np.array((1,2,4,3),dtype = RGBA)\n",
        "print(color['red'])\n",
        "type(color)\n"
      ]
    },
    {
      "cell_type": "markdown",
      "metadata": {
        "id": "-_O59JmxGNFr"
      },
      "source": [
        "#### 24. Multiply a 5x3 matrix by a 3x2 matrix (real matrix product) (★☆☆) \n",
        "(**hint**: np.dot | @)"
      ]
    },
    {
      "cell_type": "code",
      "execution_count": null,
      "metadata": {
        "id": "ph9LoW-KGNFs",
        "outputId": "e1d9640a-6bd7-456f-efef-2009f384e4b3",
        "colab": {
          "base_uri": "https://localhost:8080/"
        }
      },
      "outputs": [
        {
          "output_type": "stream",
          "name": "stdout",
          "text": [
            "[[1.22422466 0.30348105]\n",
            " [0.53587271 0.15649736]\n",
            " [1.32687215 0.24577108]\n",
            " [0.59306887 0.1246807 ]\n",
            " [1.44960597 0.33893043]]\n"
          ]
        },
        {
          "output_type": "execute_result",
          "data": {
            "text/plain": [
              "array([[1.22422466, 0.30348105],\n",
              "       [0.53587271, 0.15649736],\n",
              "       [1.32687215, 0.24577108],\n",
              "       [0.59306887, 0.1246807 ],\n",
              "       [1.44960597, 0.33893043]])"
            ]
          },
          "metadata": {},
          "execution_count": 39
        }
      ],
      "source": [
        "arr_1 = np.random.random((5,3))\n",
        "arr_2 = np.random.random((3,2))\n",
        "print(arr_1 @ arr_2)\n",
        "np.dot(arr_1,arr_2)\n"
      ]
    },
    {
      "cell_type": "markdown",
      "metadata": {
        "id": "ka9Z5fFNGNFs"
      },
      "source": [
        "#### 25. Given a 1D array, negate all elements which are between 3 and 8, in place. (★☆☆) \n",
        "(**hint**: >, <=)"
      ]
    },
    {
      "cell_type": "code",
      "execution_count": null,
      "metadata": {
        "id": "ZB4hgtkdGNFt",
        "outputId": "76fbfe72-3e32-4e9e-bb65-21a79c9aedeb",
        "colab": {
          "base_uri": "https://localhost:8080/"
        }
      },
      "outputs": [
        {
          "output_type": "stream",
          "name": "stdout",
          "text": [
            "[False False False  True  True  True  True  True  True  True  True  True\n",
            "  True  True  True  True]\n",
            "[ 0  1  2 -3 -4 -5 -6 -7 -8  9 10 11 12 13 14 15]\n"
          ]
        }
      ],
      "source": [
        "arr=np.arange(16)\n",
        "print(arr>=3)\n",
        "arr[(arr>=3) & (arr<=8)]*=(-1)\n",
        "print(arr)"
      ]
    },
    {
      "cell_type": "markdown",
      "metadata": {
        "id": "WiWFAshLGNFt"
      },
      "source": [
        "#### 26. What is the output of the following script? (★☆☆) \n",
        "(**hint**: np.sum)"
      ]
    },
    {
      "cell_type": "markdown",
      "metadata": {
        "id": "SEEbzeJeGNFu"
      },
      "source": [
        "```python\n",
        "# Author: Jake VanderPlas\n",
        "\n",
        "print(sum(range(5),-1))\n",
        "from numpy import *\n",
        "print(sum(range(5),-1))\n",
        "```"
      ]
    },
    {
      "cell_type": "code",
      "execution_count": null,
      "metadata": {
        "id": "moXWvOHjGNFv",
        "outputId": "12b65c1d-f581-40dd-ddbd-7159c1fdda84",
        "colab": {
          "base_uri": "https://localhost:8080/"
        }
      },
      "outputs": [
        {
          "output_type": "stream",
          "name": "stdout",
          "text": [
            "9\n",
            "10\n"
          ]
        }
      ],
      "source": [
        "print(sum(range(5),-1))\n",
        "from numpy import *\n",
        "print(sum(range(5),-1))"
      ]
    },
    {
      "cell_type": "markdown",
      "metadata": {
        "id": "q-qPLzMxGNFv"
      },
      "source": [
        "#### 27. Consider an integer vector Z, which of these expressions are legal? (★☆☆)"
      ]
    },
    {
      "cell_type": "markdown",
      "metadata": {
        "id": "R2qs3mLnGNFw"
      },
      "source": [
        "```python\n",
        "Z**Z\n",
        "2 << Z >> 2\n",
        "Z <- Z\n",
        "1j*Z\n",
        "Z/1/1\n",
        "Z<Z>Z\n",
        "```"
      ]
    },
    {
      "cell_type": "code",
      "execution_count": null,
      "metadata": {
        "id": "fYhNdWhiGNFx",
        "outputId": "111f7271-cb64-498f-c865-cc91f26b9666",
        "colab": {
          "base_uri": "https://localhost:8080/",
          "height": 252
        }
      },
      "outputs": [
        {
          "output_type": "stream",
          "name": "stdout",
          "text": [
            "['0b10', '0b10', '0b10', '0b10', '0b10', '0b10', '0b10', '0b10', '0b10', '0b10']\n",
            "['0b10', '0b100', '0b1000', '0b100000', '0b1000000000', '0b100000000000000000', '0b1000000000000000000000000000000000', '0b0', '0b0', '0b0']\n",
            "['0b0', '0b1', '0b10', '0b100', '0b1000', '0b10000', '0b100000', '0b1000000', '0b10000000', '0b100000000']\n"
          ]
        },
        {
          "output_type": "error",
          "ename": "ValueError",
          "evalue": "ignored",
          "traceback": [
            "\u001b[0;31m---------------------------------------------------------------------------\u001b[0m",
            "\u001b[0;31mValueError\u001b[0m                                Traceback (most recent call last)",
            "\u001b[0;32m<ipython-input-42-7863139ee5be>\u001b[0m in \u001b[0;36m<module>\u001b[0;34m\u001b[0m\n\u001b[1;32m      6\u001b[0m \u001b[0mprint\u001b[0m\u001b[0;34m(\u001b[0m\u001b[0;34m[\u001b[0m\u001b[0mbin\u001b[0m\u001b[0;34m(\u001b[0m\u001b[0mz\u001b[0m\u001b[0;34m)\u001b[0m \u001b[0;32mfor\u001b[0m \u001b[0mz\u001b[0m \u001b[0;32min\u001b[0m \u001b[0;36m2\u001b[0m \u001b[0;34m<<\u001b[0m \u001b[0mZ_2\u001b[0m\u001b[0;34m]\u001b[0m\u001b[0;34m)\u001b[0m\u001b[0;34m\u001b[0m\u001b[0;34m\u001b[0m\u001b[0m\n\u001b[1;32m      7\u001b[0m \u001b[0mprint\u001b[0m\u001b[0;34m(\u001b[0m\u001b[0;34m[\u001b[0m\u001b[0mbin\u001b[0m\u001b[0;34m(\u001b[0m\u001b[0mz\u001b[0m\u001b[0;34m)\u001b[0m \u001b[0;32mfor\u001b[0m \u001b[0mz\u001b[0m \u001b[0;32min\u001b[0m \u001b[0mZ_2\u001b[0m\u001b[0;34m]\u001b[0m\u001b[0;34m)\u001b[0m\u001b[0;34m\u001b[0m\u001b[0;34m\u001b[0m\u001b[0m\n\u001b[0;32m----> 8\u001b[0;31m \u001b[0mZ\u001b[0m\u001b[0;34m<\u001b[0m\u001b[0mZ\u001b[0m\u001b[0;34m>\u001b[0m\u001b[0mZ\u001b[0m\u001b[0;34m\u001b[0m\u001b[0;34m\u001b[0m\u001b[0m\n\u001b[0m",
            "\u001b[0;31mValueError\u001b[0m: The truth value of an array with more than one element is ambiguous. Use a.any() or a.all()"
          ]
        }
      ],
      "source": [
        "Z = arange(10)\n",
        "Z**Z\n",
        "Z_2 = 2 << Z >> 2\n",
        "Z_2\n",
        "print([bin(2) for z in Z_2])\n",
        "print([bin(z) for z in 2 << Z_2])\n",
        "print([bin(z) for z in Z_2])\n",
        "Z<Z>Z"
      ]
    },
    {
      "cell_type": "markdown",
      "metadata": {
        "id": "oHYfrWG6GNFx"
      },
      "source": [
        "#### 28. What are the result of the following expressions?"
      ]
    },
    {
      "cell_type": "markdown",
      "metadata": {
        "id": "rNfp5C3pGNFy"
      },
      "source": [
        "```python\n",
        "np.array(0) / np.array(0)\n",
        "np.array(0) // np.array(0)\n",
        "np.array([np.nan]).astype(int).astype(float)\n",
        "```"
      ]
    },
    {
      "cell_type": "code",
      "execution_count": null,
      "metadata": {
        "id": "c5lrqR6IGNF1",
        "outputId": "086ce9ee-7df9-4e77-86f7-8d0099d71431",
        "colab": {
          "base_uri": "https://localhost:8080/"
        }
      },
      "outputs": [
        {
          "output_type": "execute_result",
          "data": {
            "text/plain": [
              "array([-9.22337204e+18])"
            ]
          },
          "metadata": {},
          "execution_count": 43
        }
      ],
      "source": [
        "np.array([np.nan]).astype(int).astype(float)\n"
      ]
    },
    {
      "cell_type": "markdown",
      "metadata": {
        "id": "roj3ecrBGNF1"
      },
      "source": [
        "#### 29. How to round away from zero a float array ? (★☆☆) \n",
        "(**hint**: np.uniform, np.copysign, np.ceil, np.abs)"
      ]
    },
    {
      "cell_type": "code",
      "execution_count": null,
      "metadata": {
        "id": "1behZMwyGNF2",
        "outputId": "88f829db-1a09-436c-c750-e7bfe73cb75a",
        "colab": {
          "base_uri": "https://localhost:8080/"
        }
      },
      "outputs": [
        {
          "output_type": "stream",
          "name": "stdout",
          "text": [
            "[[0.91558438 0.28429601 0.55259218 0.25617309 0.25492457]\n",
            " [0.68952195 0.48546794 0.4318749  0.03653647 0.17271393]\n",
            " [0.34229008 0.89539482 0.19370316 0.85514924 0.50546249]\n",
            " [0.0166446  0.3950331  0.77308098 0.22400407 0.60931016]\n",
            " [0.92413659 0.81460397 0.0639074  0.89675671 0.19409031]]\n",
            "[[0.92 0.28 0.55 0.26 0.25]\n",
            " [0.69 0.49 0.43 0.04 0.17]\n",
            " [0.34 0.9  0.19 0.86 0.51]\n",
            " [0.02 0.4  0.77 0.22 0.61]\n",
            " [0.92 0.81 0.06 0.9  0.19]]\n"
          ]
        }
      ],
      "source": [
        "arr = np.random.random((5,5))\n",
        "print(arr)\n",
        "arr = np.round(arr,2)\n",
        "print(arr)"
      ]
    },
    {
      "cell_type": "markdown",
      "metadata": {
        "id": "8I8lAOikGNF2"
      },
      "source": [
        "#### 30. How to find common values between two arrays? (★☆☆) \n",
        "(**hint**: np.intersect1d)"
      ]
    },
    {
      "cell_type": "code",
      "execution_count": null,
      "metadata": {
        "id": "ZE7hAMY4GNF3",
        "outputId": "8f706ae5-22d9-4acf-f287-c2df5b1e19db",
        "colab": {
          "base_uri": "https://localhost:8080/"
        }
      },
      "outputs": [
        {
          "output_type": "stream",
          "name": "stdout",
          "text": [
            "[1 2 3]\n"
          ]
        }
      ],
      "source": [
        "x=np.array([1,2,3,4])\n",
        "y=np.array([2,3,1,9])\n",
        "print(np.intersect1d(x,y))"
      ]
    },
    {
      "cell_type": "markdown",
      "metadata": {
        "id": "Dg3AhC1bGNF6"
      },
      "source": [
        "#### 31. How to ignore all numpy warnings (not recommended)? (★☆☆) \n",
        "(**hint**: np.seterr, np.errstate)"
      ]
    },
    {
      "cell_type": "code",
      "execution_count": 3,
      "metadata": {
        "id": "JYw823iJGNF7",
        "colab": {
          "base_uri": "https://localhost:8080/"
        },
        "outputId": "2ac0d08e-8778-4a17-ce0a-f1fe121b1c84"
      },
      "outputs": [
        {
          "output_type": "execute_result",
          "data": {
            "text/plain": [
              "{'divide': 'ignore', 'over': 'ignore', 'under': 'ignore', 'invalid': 'ignore'}"
            ]
          },
          "metadata": {},
          "execution_count": 3
        }
      ],
      "source": [
        "import numpy as np\n",
        "data=np.random.random(1000).reshape(10,10,10)*np.nan\n",
        "np.seterr(all=\"ignore\")"
      ]
    },
    {
      "cell_type": "markdown",
      "metadata": {
        "id": "ndaK-LhGGNF7"
      },
      "source": [
        "#### 32. Is the following expressions true? (★☆☆) \n",
        "(**hint**: imaginary number)"
      ]
    },
    {
      "cell_type": "markdown",
      "metadata": {
        "id": "2r58ys3IGNF8"
      },
      "source": [
        "```python\n",
        "np.sqrt(-1) == np.emath.sqrt(-1)\n",
        "```"
      ]
    },
    {
      "cell_type": "code",
      "execution_count": 4,
      "metadata": {
        "id": "RBHl_DcnGNF8",
        "colab": {
          "base_uri": "https://localhost:8080/"
        },
        "outputId": "efae1513-f543-4911-997a-0b8481e2c6dd"
      },
      "outputs": [
        {
          "output_type": "execute_result",
          "data": {
            "text/plain": [
              "False"
            ]
          },
          "metadata": {},
          "execution_count": 4
        }
      ],
      "source": [
        "np.sqrt(-1) == np.emath.sqrt(-1)"
      ]
    },
    {
      "cell_type": "markdown",
      "metadata": {
        "id": "YvUNvAQiGNF9"
      },
      "source": [
        "#### 33. How to get the dates of yesterday, today and tomorrow? (★☆☆) \n",
        "(**hint**: np.datetime64, np.timedelta64)"
      ]
    },
    {
      "cell_type": "code",
      "execution_count": 5,
      "metadata": {
        "collapsed": true,
        "id": "fL8yVdC6GNF9"
      },
      "outputs": [],
      "source": [
        "yesterday = np.datetime64('today', 'D') - np.timedelta64(1, 'D')\n",
        "today     = np.datetime64('today', 'D')\n",
        "tomorrow  = np.datetime64('today', 'D') + np.timedelta64(1, 'D')"
      ]
    },
    {
      "cell_type": "markdown",
      "metadata": {
        "id": "krDHyyeFGNF-"
      },
      "source": [
        "#### 34. How to get all the dates corresponding to the month of July 2016? (★★☆) \n",
        "(**hint**: np.arange(dtype=datetime64\\['D'\\]))"
      ]
    },
    {
      "cell_type": "code",
      "execution_count": 8,
      "metadata": {
        "id": "LqnI7LyYGNF-",
        "colab": {
          "base_uri": "https://localhost:8080/"
        },
        "outputId": "6001cadb-9545-4357-d8b8-6853563251a0"
      },
      "outputs": [
        {
          "output_type": "stream",
          "name": "stdout",
          "text": [
            "['2016-07-01' '2016-07-02' '2016-07-03' '2016-07-04' '2016-07-05'\n",
            " '2016-07-06' '2016-07-07' '2016-07-08' '2016-07-09' '2016-07-10'\n",
            " '2016-07-11' '2016-07-12' '2016-07-13' '2016-07-14' '2016-07-15'\n",
            " '2016-07-16' '2016-07-17' '2016-07-18' '2016-07-19' '2016-07-20'\n",
            " '2016-07-21' '2016-07-22' '2016-07-23' '2016-07-24' '2016-07-25'\n",
            " '2016-07-26' '2016-07-27' '2016-07-28' '2016-07-29' '2016-07-30'\n",
            " '2016-07-31']\n"
          ]
        }
      ],
      "source": [
        "Z = np.arange('2016-07', '2016-08', dtype='datetime64[D]')\n",
        "print(Z)"
      ]
    },
    {
      "cell_type": "markdown",
      "metadata": {
        "id": "msx6GCCkGNF_"
      },
      "source": [
        "#### 35. How to compute ((A+B)\\*(-A/2)) in place (without copy)? (★★☆) \n",
        "(**hint**: np.add(out=), np.negative(out=), np.multiply(out=), np.divide(out=))"
      ]
    },
    {
      "cell_type": "code",
      "execution_count": 9,
      "metadata": {
        "id": "EecOERqPGNF_",
        "colab": {
          "base_uri": "https://localhost:8080/"
        },
        "outputId": "967055ac-bb1e-4348-b377-90cb1a5aab51"
      },
      "outputs": [
        {
          "output_type": "execute_result",
          "data": {
            "text/plain": [
              "-4.5"
            ]
          },
          "metadata": {},
          "execution_count": 9
        }
      ],
      "source": [
        "\n",
        "A = np.ones(3)*1\n",
        "B = np.ones(3)*2\n",
        "C = np.ones(3)*3\n",
        "np.add(A,B,out=B)\n",
        "np.divide(A,2,out=A)\n",
        "np.negative(A,out=A)\n",
        "np.dot(A,B)"
      ]
    },
    {
      "cell_type": "markdown",
      "metadata": {
        "id": "kXjhnv2OGNF_"
      },
      "source": [
        "#### 36. Extract the integer part of a random array using 5 different methods (★★☆) \n",
        "(**hint**: %, np.floor, np.ceil, astype, np.trunc)"
      ]
    },
    {
      "cell_type": "code",
      "execution_count": 10,
      "metadata": {
        "id": "P_KiyJRrGNGA",
        "colab": {
          "base_uri": "https://localhost:8080/"
        },
        "outputId": "73e363f4-5b98-49ce-846c-aeab2b9d7dab"
      },
      "outputs": [
        {
          "output_type": "stream",
          "name": "stdout",
          "text": [
            "[0. 0. 4. 5. 2. 8. 7. 5. 9. 2.]\n",
            "[0. 0. 4. 5. 2. 8. 7. 5. 9. 2.]\n",
            "[0. 0. 4. 5. 2. 8. 7. 5. 9. 2.]\n",
            "[0 0 4 5 2 8 7 5 9 2]\n"
          ]
        }
      ],
      "source": [
        "Z = np.random.uniform(0,10,10)\n",
        "\n",
        "print (Z - Z%1)\n",
        "print (np.floor(Z))\n",
        "print (np.ceil(Z)-1)\n",
        "print (Z.astype(int))"
      ]
    },
    {
      "cell_type": "markdown",
      "metadata": {
        "id": "hSr13Xv2GNGA"
      },
      "source": [
        "#### 37. Create a 5x5 matrix with row values ranging from 0 to 4 (★★☆) \n",
        "(**hint**: np.arange)"
      ]
    },
    {
      "cell_type": "code",
      "execution_count": 11,
      "metadata": {
        "id": "rhEVW-s5GNGB",
        "colab": {
          "base_uri": "https://localhost:8080/"
        },
        "outputId": "0a840148-fb6b-4be7-df14-a1d10c84b864"
      },
      "outputs": [
        {
          "output_type": "stream",
          "name": "stdout",
          "text": [
            "[[0. 1. 2. 3. 4.]\n",
            " [0. 1. 2. 3. 4.]\n",
            " [0. 1. 2. 3. 4.]\n",
            " [0. 1. 2. 3. 4.]\n",
            " [0. 1. 2. 3. 4.]]\n"
          ]
        }
      ],
      "source": [
        "Z = np.zeros((5,5))\n",
        "Z += np.arange(5)\n",
        "print(Z)"
      ]
    },
    {
      "cell_type": "markdown",
      "metadata": {
        "id": "8UAL4b3IGNGC"
      },
      "source": [
        "#### 38. Consider a generator function that generates 10 integers and use it to build an array (★☆☆) \n",
        "(**hint**: np.fromiter)"
      ]
    },
    {
      "cell_type": "code",
      "execution_count": 12,
      "metadata": {
        "id": "-22a_1wLGNGG",
        "colab": {
          "base_uri": "https://localhost:8080/"
        },
        "outputId": "83629f05-3bb5-4080-96a6-f4ebd52d9cc1"
      },
      "outputs": [
        {
          "output_type": "stream",
          "name": "stdout",
          "text": [
            "[0. 1. 2. 3. 4. 5. 6. 7. 8. 9.]\n"
          ]
        }
      ],
      "source": [
        "def generate():\n",
        "    for x in range(10):\n",
        "        yield x\n",
        "Z = np.fromiter(generate(),dtype=float,count=-1)\n",
        "print(Z)\n"
      ]
    },
    {
      "cell_type": "markdown",
      "metadata": {
        "id": "FaoN6Tn7GNGH"
      },
      "source": [
        "#### 39. Create a vector of size 10 with values ranging from 0 to 1, both excluded (★★☆) \n",
        "(**hint**: np.linspace)"
      ]
    },
    {
      "cell_type": "code",
      "execution_count": 13,
      "metadata": {
        "id": "4a5eF7XNGNGJ",
        "colab": {
          "base_uri": "https://localhost:8080/"
        },
        "outputId": "5c207202-a529-46d9-e4dc-9c02b1f0b722"
      },
      "outputs": [
        {
          "output_type": "stream",
          "name": "stdout",
          "text": [
            "[0.09090909 0.18181818 0.27272727 0.36363636 0.45454545 0.54545455\n",
            " 0.63636364 0.72727273 0.81818182 0.90909091]\n"
          ]
        }
      ],
      "source": [
        "Z = np.linspace(0,1,11,endpoint=False)[1:]\n",
        "print(Z)"
      ]
    },
    {
      "cell_type": "markdown",
      "metadata": {
        "id": "fVcVVi_vGNGK"
      },
      "source": [
        "#### 40. Create a random vector of size 10 and sort it (★★☆) \n",
        "(**hint**: sort)"
      ]
    },
    {
      "cell_type": "code",
      "execution_count": 14,
      "metadata": {
        "id": "7jk0mbNhGNGL",
        "colab": {
          "base_uri": "https://localhost:8080/"
        },
        "outputId": "0cafb93e-bada-4e62-82f5-a417f831d941"
      },
      "outputs": [
        {
          "output_type": "stream",
          "name": "stdout",
          "text": [
            "[0.06284984 0.19644938 0.25466985 0.26528234 0.38023766 0.60883891\n",
            " 0.69585017 0.75623581 0.79853697 0.87706084]\n"
          ]
        }
      ],
      "source": [
        "Z = np.random.random(10)\n",
        "Z.sort()\n",
        "print(Z)"
      ]
    },
    {
      "cell_type": "markdown",
      "metadata": {
        "id": "of_gAp4rGNGL"
      },
      "source": [
        "#### 41. How to sum a small array faster than np.sum? (★★☆) \n",
        "(**hint**: np.add.reduce)"
      ]
    },
    {
      "cell_type": "code",
      "execution_count": 15,
      "metadata": {
        "id": "y_shlNccGNGM",
        "colab": {
          "base_uri": "https://localhost:8080/"
        },
        "outputId": "b2e53710-40cf-42b6-a81a-8fba621efb59"
      },
      "outputs": [
        {
          "output_type": "execute_result",
          "data": {
            "text/plain": [
              "45"
            ]
          },
          "metadata": {},
          "execution_count": 15
        }
      ],
      "source": [
        "import functools as ft\n",
        "Z = np.arange(10)\n",
        "#np.add.reduce(Z)\n",
        "ft.reduce(np.add,Z,0)"
      ]
    },
    {
      "cell_type": "markdown",
      "metadata": {
        "id": "l-MM9_SXGNGM"
      },
      "source": [
        "#### 42. Consider two random array A and B, check if they are equal (★★☆) \n",
        "(**hint**: np.allclose, np.array\\_equal)"
      ]
    },
    {
      "cell_type": "code",
      "execution_count": 17,
      "metadata": {
        "id": "f0GGFfbWGNGN",
        "colab": {
          "base_uri": "https://localhost:8080/"
        },
        "outputId": "0738c63e-de0d-46c7-d92c-9fa24f5dad13"
      },
      "outputs": [
        {
          "output_type": "stream",
          "name": "stdout",
          "text": [
            "[0 1 1 1 0]\n",
            "************************************************************\n",
            "[0 0 0 0 0]\n",
            "************************************************************\n",
            "False\n",
            "False\n"
          ]
        }
      ],
      "source": [
        "A = np.random.randint(0,2,5)\n",
        "B = np.random.randint(0,2,5)\n",
        "print(A)\n",
        "print('*'*60)\n",
        "print(B)\n",
        "print('*'*60)\n",
        "# Assuming identical shape of the arrays and a tolerance for the comparison of values\n",
        "equal = np.allclose(A,B)\n",
        "print(equal)\n",
        "\n",
        "# Checking both the shape and the element values, no tolerance (values have to be exactly equal)\n",
        "equal = np.array_equal(A,B)\n",
        "print(equal)"
      ]
    },
    {
      "cell_type": "markdown",
      "metadata": {
        "id": "aOWOxa6cGNGO"
      },
      "source": [
        "#### 43. Make an array immutable (read-only) (★★☆) \n",
        "(**hint**: flags.writeable)"
      ]
    },
    {
      "cell_type": "code",
      "execution_count": 19,
      "metadata": {
        "id": "9mgSlNppGNGO"
      },
      "outputs": [],
      "source": [
        "Z = np.zeros(10)\n",
        "Z.flags.writeable = False\n",
        "\n"
      ]
    },
    {
      "cell_type": "markdown",
      "metadata": {
        "id": "NbXRC_flGNGO"
      },
      "source": [
        "#### 44. Consider a random 10x2 matrix representing cartesian coordinates, convert them to polar coordinates (★★☆) \n",
        "(**hint**: np.sqrt, np.arctan2)"
      ]
    },
    {
      "cell_type": "code",
      "execution_count": 20,
      "metadata": {
        "id": "8C_hKa_JGNGP",
        "colab": {
          "base_uri": "https://localhost:8080/"
        },
        "outputId": "c5bf0c02-e32d-42e0-b647-5013e8cc9cee"
      },
      "outputs": [
        {
          "output_type": "stream",
          "name": "stdout",
          "text": [
            "[[ 8.06225775  0.51914611]\n",
            " [ 5.83095189  0.5404195 ]\n",
            " [ 8.60232527  0.62024949]\n",
            " [ 5.83095189  0.5404195 ]\n",
            " [ 8.94427191  1.10714872]\n",
            " [10.          0.92729522]\n",
            " [ 4.47213595  0.46364761]\n",
            " [ 9.43398113  1.01219701]\n",
            " [ 0.          0.        ]\n",
            " [ 3.          0.        ]]\n"
          ]
        }
      ],
      "source": [
        "import numpy as np\n",
        "z= np.random.randint(0,9,(10,2))\n",
        "x,y = z[:,0], z[:,1]\n",
        "r = np.sqrt(x**2+y**2)\n",
        "t = np.arctan2(y,x)\n",
        "poles = np.c_[r,t]\n",
        "print(poles)"
      ]
    },
    {
      "cell_type": "markdown",
      "metadata": {
        "id": "icdA8gAqGNGQ"
      },
      "source": [
        "#### 45. Create random vector of size 10 and replace the maximum value by 0 (★★☆) \n",
        "(**hint**: argmax)"
      ]
    },
    {
      "cell_type": "code",
      "execution_count": 21,
      "metadata": {
        "id": "7JJ-_BclGNGR",
        "colab": {
          "base_uri": "https://localhost:8080/"
        },
        "outputId": "606190d4-5de9-447f-fbbe-8ab31240b245"
      },
      "outputs": [
        {
          "output_type": "stream",
          "name": "stdout",
          "text": [
            "[0.77533194 0.65362879 0.51416733 0.01032565 0.53296318 0.13241094\n",
            " 0.65349353 0.87834553 0.52136695 0.23552262]\n",
            "[0.77533194 0.65362879 0.51416733 0.01032565 0.53296318 0.13241094\n",
            " 0.65349353 0.         0.52136695 0.23552262]\n"
          ]
        }
      ],
      "source": [
        "arr = np.random.random(10)\n",
        "print(arr)\n",
        "arr[arr.argmax()] = 0\n",
        "print(arr)\n"
      ]
    },
    {
      "cell_type": "markdown",
      "metadata": {
        "id": "bQXAw1llGNGS"
      },
      "source": [
        "#### 46. Create a structured array with `x` and `y` coordinates covering the \\[0,1\\]x\\[0,1\\] area (★★☆) \n",
        "(**hint**: np.meshgrid)"
      ]
    },
    {
      "cell_type": "code",
      "execution_count": 23,
      "metadata": {
        "id": "FYDxr7cNGNGS",
        "colab": {
          "base_uri": "https://localhost:8080/"
        },
        "outputId": "563f8f43-a993-4b3c-fe1d-9a2d21a044c6"
      },
      "outputs": [
        {
          "output_type": "execute_result",
          "data": {
            "text/plain": [
              "array([[0.11111111, 0.125     , 0.11111111, 0.2       , 0.09090909,\n",
              "        0.08333333, 0.06666667, 0.2       , 0.1       , 0.06666667],\n",
              "       [0.09090909, 0.1       , 0.09090909, 0.14285714, 0.07692308,\n",
              "        0.07142857, 0.05882353, 0.14285714, 0.08333333, 0.05882353],\n",
              "       [0.07142857, 0.07692308, 0.07142857, 0.1       , 0.0625    ,\n",
              "        0.05882353, 0.05      , 0.1       , 0.06666667, 0.05      ],\n",
              "       [0.16666667, 0.2       , 0.16666667, 0.5       , 0.125     ,\n",
              "        0.11111111, 0.08333333, 0.5       , 0.14285714, 0.08333333],\n",
              "       [0.09090909, 0.1       , 0.09090909, 0.14285714, 0.07692308,\n",
              "        0.07142857, 0.05882353, 0.14285714, 0.08333333, 0.05882353],\n",
              "       [0.07142857, 0.07692308, 0.07142857, 0.1       , 0.0625    ,\n",
              "        0.05882353, 0.05      , 0.1       , 0.06666667, 0.05      ],\n",
              "       [0.2       , 0.25      , 0.2       , 1.        , 0.14285714,\n",
              "        0.125     , 0.09090909, 1.        , 0.16666667, 0.09090909],\n",
              "       [0.09090909, 0.1       , 0.09090909, 0.14285714, 0.07692308,\n",
              "        0.07142857, 0.05882353, 0.14285714, 0.08333333, 0.05882353],\n",
              "       [0.11111111, 0.125     , 0.11111111, 0.2       , 0.09090909,\n",
              "        0.08333333, 0.06666667, 0.2       , 0.1       , 0.06666667],\n",
              "       [0.06666667, 0.07142857, 0.06666667, 0.09090909, 0.05882353,\n",
              "        0.05555556, 0.04761905, 0.09090909, 0.0625    , 0.04761905]])"
            ]
          },
          "metadata": {},
          "execution_count": 23
        }
      ],
      "source": [
        "# X = np.random.randint(0,11,(5,5))\n",
        "# Y = np.random.randint(11,22,(5,5))\n",
        "# C = 1/(Y-X.T)\n",
        "# C\n",
        "\n",
        "Y = np.random.randint(0,11,10)\n",
        "X = np.random.randint(11,22,10)\n",
        "#print(Y.reshape(1,10))\n",
        "Y = np.tile(Y,(10,1))\n",
        "#print(X)\n",
        "X  = np.tile(X,(10,1)).T\n",
        "#print(X)\n",
        "\n",
        "C = 1/(X - Y)\n",
        "C"
      ]
    },
    {
      "cell_type": "markdown",
      "metadata": {
        "id": "SqrP_SazGNGT"
      },
      "source": [
        "####  47. Given two arrays, X and Y, construct the Cauchy matrix C (Cij =1/(xi - yj)) \n",
        "(**hint**: np.subtract.outer)"
      ]
    },
    {
      "cell_type": "code",
      "execution_count": 22,
      "metadata": {
        "id": "6I3LV6esGNGU",
        "colab": {
          "base_uri": "https://localhost:8080/"
        },
        "outputId": "17db6a03-ba5c-47d8-a0ea-5dc0f42f849e"
      },
      "outputs": [
        {
          "output_type": "execute_result",
          "data": {
            "text/plain": [
              "array([[0.07142857, 0.05882353, 0.05555556, 0.07692308, 0.08333333,\n",
              "        0.09090909, 0.05555556, 0.07692308, 0.11111111, 0.08333333],\n",
              "       [0.06666667, 0.05555556, 0.05263158, 0.07142857, 0.07692308,\n",
              "        0.08333333, 0.05263158, 0.07142857, 0.1       , 0.07692308],\n",
              "       [0.07142857, 0.05882353, 0.05555556, 0.07692308, 0.08333333,\n",
              "        0.09090909, 0.05555556, 0.07692308, 0.11111111, 0.08333333],\n",
              "       [0.08333333, 0.06666667, 0.0625    , 0.09090909, 0.1       ,\n",
              "        0.11111111, 0.0625    , 0.09090909, 0.14285714, 0.1       ],\n",
              "       [0.09090909, 0.07142857, 0.06666667, 0.1       , 0.11111111,\n",
              "        0.125     , 0.06666667, 0.1       , 0.16666667, 0.11111111],\n",
              "       [0.07142857, 0.05882353, 0.05555556, 0.07692308, 0.08333333,\n",
              "        0.09090909, 0.05555556, 0.07692308, 0.11111111, 0.08333333],\n",
              "       [0.11111111, 0.08333333, 0.07692308, 0.125     , 0.14285714,\n",
              "        0.16666667, 0.07692308, 0.125     , 0.25      , 0.14285714],\n",
              "       [0.09090909, 0.07142857, 0.06666667, 0.1       , 0.11111111,\n",
              "        0.125     , 0.06666667, 0.1       , 0.16666667, 0.11111111],\n",
              "       [0.125     , 0.09090909, 0.08333333, 0.14285714, 0.16666667,\n",
              "        0.2       , 0.08333333, 0.14285714, 0.33333333, 0.16666667],\n",
              "       [0.09090909, 0.07142857, 0.06666667, 0.1       , 0.11111111,\n",
              "        0.125     , 0.06666667, 0.1       , 0.16666667, 0.11111111]])"
            ]
          },
          "metadata": {},
          "execution_count": 22
        }
      ],
      "source": [
        "# X = np.random.randint(0,11,(5,5))\n",
        "# Y = np.random.randint(11,22,(5,5))\n",
        "# C = 1/(Y-X.T)\n",
        "# C\n",
        "\n",
        "Y = np.random.randint(0,11,10)\n",
        "X = np.random.randint(11,22,10)\n",
        "#print(Y.reshape(1,10))\n",
        "Y = np.tile(Y,(10,1))\n",
        "#print(X)\n",
        "X  = np.tile(X,(10,1)).T\n",
        "#print(X)\n",
        "\n",
        "C = 1/(X - Y)\n",
        "C"
      ]
    },
    {
      "cell_type": "markdown",
      "metadata": {
        "id": "6aWs6JikGNGV"
      },
      "source": [
        "#### 48. Print the minimum and maximum representable value for each numpy scalar type (★★☆) \n",
        "(**hint**: np.iinfo, np.finfo, eps)"
      ]
    },
    {
      "cell_type": "code",
      "execution_count": 24,
      "metadata": {
        "id": "f6hHQ9T8GNGW",
        "colab": {
          "base_uri": "https://localhost:8080/"
        },
        "outputId": "d81b47e6-2c61-4983-a9dd-5bbcfc633efe"
      },
      "outputs": [
        {
          "output_type": "stream",
          "name": "stdout",
          "text": [
            "-128\n",
            "127\n",
            "-2147483648\n",
            "2147483647\n",
            "-9223372036854775808\n",
            "9223372036854775807\n",
            "-3.4028235e+38\n",
            "3.4028235e+38\n",
            "1.1920929e-07\n",
            "-1.7976931348623157e+308\n",
            "1.7976931348623157e+308\n",
            "2.220446049250313e-16\n"
          ]
        }
      ],
      "source": [
        "for dtype in [np.int8, np.int32, np.int64]:\n",
        "    print(np.iinfo(dtype).min)\n",
        "    print(np.iinfo(dtype).max)\n",
        "for dtype in [np.float32, np.float64]:\n",
        "    print(np.finfo(dtype).min)\n",
        "    print(np.finfo(dtype).max)\n",
        "    print(np.finfo(dtype).eps)"
      ]
    },
    {
      "cell_type": "markdown",
      "metadata": {
        "id": "Qja5orKpGNGX"
      },
      "source": [
        "#### 49. How to print all the values of an array? (★★☆) \n",
        "(**hint**: np.set\\_printoptions)"
      ]
    },
    {
      "cell_type": "code",
      "execution_count": 25,
      "metadata": {
        "id": "YSKCo_xXGNGX",
        "colab": {
          "base_uri": "https://localhost:8080/"
        },
        "outputId": "8ea25870-b69b-4945-beaa-47c8bd9385df"
      },
      "outputs": [
        {
          "output_type": "stream",
          "name": "stdout",
          "text": [
            "[]\n"
          ]
        }
      ],
      "source": [
        "#np.set_printoptions(threshold=np.nan)\n",
        "#Z = np.zeros((int(1e4),int(1e4)))\n",
        "Z = []\n",
        "print(Z)\n"
      ]
    },
    {
      "cell_type": "markdown",
      "metadata": {
        "id": "ib_wDE71GNGY"
      },
      "source": [
        "#### 50. How to find the closest value (to a given scalar) in a vector? (★★☆) \n",
        "(**hint**: argmin)"
      ]
    },
    {
      "cell_type": "code",
      "execution_count": 26,
      "metadata": {
        "id": "Eg_xDoXTGNGb",
        "colab": {
          "base_uri": "https://localhost:8080/"
        },
        "outputId": "5f0fffcb-8c00-4496-b993-c9ad13acd809"
      },
      "outputs": [
        {
          "output_type": "stream",
          "name": "stdout",
          "text": [
            "[5.46231907 7.61455924 7.13589995 5.75711862 9.64078147 4.59477832\n",
            " 1.81689991 5.76318452 3.59871758 8.26683005]\n",
            "************************************************************\n",
            "4.594778317779982\n"
          ]
        }
      ],
      "source": [
        "arr = np.random.uniform(0,10,10)\n",
        "scal = 5\n",
        "arr_1 = np.abs(arr - 5)\n",
        "ind = arr_1.argmin()\n",
        "print(arr)\n",
        "print('*'*60)\n",
        "print(arr[ind])"
      ]
    },
    {
      "cell_type": "markdown",
      "metadata": {
        "id": "0_rQBpjGGNGc"
      },
      "source": [
        "#### 51. Create a structured array representing a position (x,y) and a color (r,g,b) (★★☆) \n",
        "(**hint**: dtype)"
      ]
    },
    {
      "cell_type": "code",
      "execution_count": 27,
      "metadata": {
        "id": "2_Oe-ooWGNGd",
        "colab": {
          "base_uri": "https://localhost:8080/"
        },
        "outputId": "b921efd7-d911-4271-be4b-1c86508fdce7"
      },
      "outputs": [
        {
          "output_type": "stream",
          "name": "stdout",
          "text": [
            "[((0., 0.), (0., 0., 0.)) ((0., 0.), (0., 0., 0.))\n",
            " ((0., 0.), (0., 0., 0.)) ((0., 0.), (0., 0., 0.))\n",
            " ((0., 0.), (0., 0., 0.)) ((0., 0.), (0., 0., 0.))\n",
            " ((0., 0.), (0., 0., 0.)) ((0., 0.), (0., 0., 0.))\n",
            " ((0., 0.), (0., 0., 0.)) ((0., 0.), (0., 0., 0.))]\n"
          ]
        }
      ],
      "source": [
        "Z = np.zeros(10, [ ('position', [ ('x', float),\n",
        "                                  ('y', float)]),\n",
        "                   ('color',    [ ('r', float),\n",
        "                                  ('g', float),\n",
        "                                  ('b', float)])])\n",
        "print(Z)"
      ]
    },
    {
      "cell_type": "markdown",
      "metadata": {
        "id": "XjHMJr9FGNGe"
      },
      "source": [
        "#### 52. Consider a random vector with shape (100,2) representing coordinates, find point by point distances (★★☆) \n",
        "(**hint**: np.atleast\\_2d, T, np.sqrt)"
      ]
    },
    {
      "cell_type": "code",
      "execution_count": 28,
      "metadata": {
        "id": "tZYzbwWqGNGf",
        "colab": {
          "base_uri": "https://localhost:8080/"
        },
        "outputId": "12ed8ef8-a549-446f-fd25-fcf2ce90a445"
      },
      "outputs": [
        {
          "output_type": "stream",
          "name": "stdout",
          "text": [
            "[[0.         0.45365552 0.11527812 0.72783053 0.46494405 0.38470167\n",
            "  0.4180793  0.01477289 0.66639278 0.57907288]\n",
            " [0.45365552 0.         0.45715033 0.74769686 0.64340728 0.83747338\n",
            "  0.64225711 0.44250295 0.75887935 0.1342987 ]\n",
            " [0.11527812 0.45715033 0.         0.83644387 0.57960376 0.40211174\n",
            "  0.53335027 0.10517116 0.7793105  0.56862387]\n",
            " [0.72783053 0.74769686 0.83644387 0.         0.30068912 0.9361738\n",
            "  0.36584037 0.73416425 0.11983913 0.84663987]\n",
            " [0.46494405 0.64340728 0.57960376 0.30068912 0.         0.63548481\n",
            "  0.06529555 0.47443428 0.20954809 0.76923335]\n",
            " [0.38470167 0.83747338 0.40211174 0.9361738  0.63548481 0.\n",
            "  0.57039107 0.39517066 0.83748274 0.95978397]\n",
            " [0.4180793  0.64225711 0.53335027 0.36584037 0.06529555 0.57039107\n",
            "  0.         0.42868613 0.27118256 0.77189222]\n",
            " [0.01477289 0.44250295 0.10517116 0.73416425 0.47443428 0.39517066\n",
            "  0.42868613 0.         0.67462411 0.56703402]\n",
            " [0.66639278 0.75887935 0.7793105  0.11983913 0.20954809 0.83748274\n",
            "  0.27118256 0.67462411 0.         0.87010201]\n",
            " [0.57907288 0.1342987  0.56862387 0.84663987 0.76923335 0.95978397\n",
            "  0.77189222 0.56703402 0.87010201 0.        ]]\n"
          ]
        }
      ],
      "source": [
        "arr = np.random.random((100,2))\n",
        "X,Y = np.atleast_2d(arr[:,0],arr[:,1])\n",
        "D = np.sqrt( (X-X.T)**2 + (Y-Y.T)**2)\n",
        "\n",
        "# Much faster with scipy\n",
        "import scipy\n",
        "# Thanks Gavin Heverly-Coulson (#issue 1)\n",
        "import scipy.spatial\n",
        "\n",
        "Z = np.random.random((10,2))\n",
        "D = scipy.spatial.distance.cdist(Z,Z)\n",
        "print(D)"
      ]
    },
    {
      "cell_type": "markdown",
      "metadata": {
        "id": "LzacxUvgGNGg"
      },
      "source": [
        "#### 53. How to convert a float (32 bits) array into an integer (32 bits) in place? \n",
        "(**hint**: astype(copy=False))"
      ]
    },
    {
      "cell_type": "code",
      "execution_count": 29,
      "metadata": {
        "id": "uxeuJ-uuGNGh",
        "colab": {
          "base_uri": "https://localhost:8080/"
        },
        "outputId": "651b8141-5869-4fe9-b9fc-97ae8233cca7"
      },
      "outputs": [
        {
          "output_type": "stream",
          "name": "stdout",
          "text": [
            "[2. 1. 2. 3. 4. 5. 6. 7. 8. 9.]\n"
          ]
        }
      ],
      "source": [
        "Z = np.arange(10, dtype=np.float32)\n",
        "Z_1 = Z.astype(np.float32, copy=False)\n",
        "Z_1[0] = 2\n",
        "print(Z)"
      ]
    },
    {
      "cell_type": "markdown",
      "metadata": {
        "id": "C3accr5xGNGh"
      },
      "source": [
        "#### 54. How to read the following file? (★★☆) \n",
        "(**hint**: np.genfromtxt)"
      ]
    },
    {
      "cell_type": "markdown",
      "metadata": {
        "id": "Y3-qfHCrGNGi"
      },
      "source": [
        "```\n",
        "1, 2, 3, 4, 5\n",
        "6,  ,  , 7, 8\n",
        " ,  , 9,10,11\n",
        "```"
      ]
    },
    {
      "cell_type": "code",
      "execution_count": 30,
      "metadata": {
        "id": "laF9nQFRGNGi",
        "colab": {
          "base_uri": "https://localhost:8080/"
        },
        "outputId": "9478a30b-0647-4c77-ba82-e393acc046bd"
      },
      "outputs": [
        {
          "output_type": "stream",
          "name": "stdout",
          "text": [
            "[[ 1  2  3  4  5]\n",
            " [ 6 -1 -1  7  8]\n",
            " [-1 -1  9 10 11]]\n"
          ]
        },
        {
          "output_type": "stream",
          "name": "stderr",
          "text": [
            "/usr/local/lib/python3.7/dist-packages/ipykernel_launcher.py:7: DeprecationWarning: `np.int` is a deprecated alias for the builtin `int`. To silence this warning, use `int` by itself. Doing this will not modify any behavior and is safe. When replacing `np.int`, you may wish to use e.g. `np.int64` or `np.int32` to specify the precision. If you wish to review your current use, check the release note link for additional information.\n",
            "Deprecated in NumPy 1.20; for more details and guidance: https://numpy.org/devdocs/release/1.20.0-notes.html#deprecations\n",
            "  import sys\n"
          ]
        }
      ],
      "source": [
        "from io import StringIO\n",
        "\n",
        "# Fake file \n",
        "s = StringIO(\"\"\"1, 2, 3, 4, 5\\n\n",
        "                6,  ,  , 7, 8\\n\n",
        "                 ,  , 9,10,11\\n\"\"\")\n",
        "Z = np.genfromtxt(s, delimiter=\",\", dtype=np.int)\n",
        "print(Z)"
      ]
    },
    {
      "cell_type": "markdown",
      "metadata": {
        "id": "bmH-yDVjGNGi"
      },
      "source": [
        "#### 55. What is the equivalent of enumerate for numpy arrays? (★★☆) \n",
        "(**hint**: np.ndenumerate, np.ndindex)"
      ]
    },
    {
      "cell_type": "code",
      "execution_count": 31,
      "metadata": {
        "id": "4gLHFj8dGNGj",
        "colab": {
          "base_uri": "https://localhost:8080/"
        },
        "outputId": "1036f03f-f498-46f4-b99c-06c5a0721158"
      },
      "outputs": [
        {
          "output_type": "stream",
          "name": "stdout",
          "text": [
            "(0, 0) 0\n",
            "(0, 1) 1\n",
            "(0, 2) 2\n",
            "(1, 0) 3\n",
            "(1, 1) 4\n",
            "(1, 2) 5\n",
            "(2, 0) 6\n",
            "(2, 1) 7\n",
            "(2, 2) 8\n",
            "(0, 0) 0\n",
            "(0, 1) 1\n",
            "(0, 2) 2\n",
            "(1, 0) 3\n",
            "(1, 1) 4\n",
            "(1, 2) 5\n",
            "(2, 0) 6\n",
            "(2, 1) 7\n",
            "(2, 2) 8\n"
          ]
        }
      ],
      "source": [
        "Z = np.arange(9).reshape(3,3)\n",
        "for index, value in np.ndenumerate(Z):\n",
        "    print(index, value)\n",
        "for index in np.ndindex(Z.shape):\n",
        "    print(index, Z[index])"
      ]
    },
    {
      "cell_type": "markdown",
      "metadata": {
        "id": "-ycKlQH9GNGj"
      },
      "source": [
        "#### 56. Generate a generic 2D Gaussian-like array (★★☆) \n",
        "(**hint**: np.meshgrid, np.exp)"
      ]
    },
    {
      "cell_type": "code",
      "execution_count": 32,
      "metadata": {
        "id": "4r8ZOEn9GNGk",
        "colab": {
          "base_uri": "https://localhost:8080/"
        },
        "outputId": "2b14bce7-0f82-4163-f993-d521443f93d7"
      },
      "outputs": [
        {
          "output_type": "stream",
          "name": "stdout",
          "text": [
            "[[0.36787944 0.44822088 0.51979489 0.57375342 0.60279818 0.60279818\n",
            "  0.57375342 0.51979489 0.44822088 0.36787944]\n",
            " [0.44822088 0.54610814 0.63331324 0.69905581 0.73444367 0.73444367\n",
            "  0.69905581 0.63331324 0.54610814 0.44822088]\n",
            " [0.51979489 0.63331324 0.73444367 0.81068432 0.85172308 0.85172308\n",
            "  0.81068432 0.73444367 0.63331324 0.51979489]\n",
            " [0.57375342 0.69905581 0.81068432 0.89483932 0.9401382  0.9401382\n",
            "  0.89483932 0.81068432 0.69905581 0.57375342]\n",
            " [0.60279818 0.73444367 0.85172308 0.9401382  0.98773022 0.98773022\n",
            "  0.9401382  0.85172308 0.73444367 0.60279818]\n",
            " [0.60279818 0.73444367 0.85172308 0.9401382  0.98773022 0.98773022\n",
            "  0.9401382  0.85172308 0.73444367 0.60279818]\n",
            " [0.57375342 0.69905581 0.81068432 0.89483932 0.9401382  0.9401382\n",
            "  0.89483932 0.81068432 0.69905581 0.57375342]\n",
            " [0.51979489 0.63331324 0.73444367 0.81068432 0.85172308 0.85172308\n",
            "  0.81068432 0.73444367 0.63331324 0.51979489]\n",
            " [0.44822088 0.54610814 0.63331324 0.69905581 0.73444367 0.73444367\n",
            "  0.69905581 0.63331324 0.54610814 0.44822088]\n",
            " [0.36787944 0.44822088 0.51979489 0.57375342 0.60279818 0.60279818\n",
            "  0.57375342 0.51979489 0.44822088 0.36787944]]\n"
          ]
        }
      ],
      "source": [
        "sigma,myu = 1.0,0.0\n",
        "\n",
        "X,Y  = np.meshgrid(np.linspace(-1,1,10),np.linspace(-1,1,10))\n",
        "D = np.sqrt(X**2+Y**2)\n",
        "G = np.exp(-(D-myu)**2/(2*sigma**2))\n",
        "print(G)"
      ]
    },
    {
      "cell_type": "markdown",
      "metadata": {
        "id": "iSW65HoWGNGk"
      },
      "source": [
        "#### 57. How to randomly place p elements in a 2D array? (★★☆) \n",
        "(**hint**: np.put, np.random.choice)"
      ]
    },
    {
      "cell_type": "code",
      "execution_count": 34,
      "metadata": {
        "id": "hzlns1snGNGk",
        "colab": {
          "base_uri": "https://localhost:8080/"
        },
        "outputId": "ea6006af-cc74-4c20-d333-24bfc08d4b1a"
      },
      "outputs": [
        {
          "output_type": "stream",
          "name": "stdout",
          "text": [
            "[[0. 0. 0. 1. 0. 0. 0. 0. 0. 0.]\n",
            " [0. 0. 0. 0. 0. 0. 0. 0. 0. 0.]\n",
            " [0. 0. 0. 0. 0. 0. 0. 0. 0. 0.]\n",
            " [0. 0. 0. 0. 0. 0. 0. 0. 0. 0.]\n",
            " [0. 0. 0. 0. 0. 0. 0. 0. 0. 0.]\n",
            " [0. 0. 0. 0. 0. 0. 0. 0. 0. 0.]\n",
            " [0. 0. 0. 0. 0. 0. 0. 0. 0. 0.]\n",
            " [1. 0. 0. 0. 0. 0. 0. 0. 0. 0.]\n",
            " [0. 1. 0. 0. 0. 0. 0. 0. 0. 0.]\n",
            " [0. 0. 0. 0. 0. 0. 0. 0. 0. 0.]]\n",
            "[[0. 0. 0. 1. 0. 0. 0. 0. 0. 0.]\n",
            " [0. 1. 0. 0. 0. 0. 0. 0. 0. 0.]\n",
            " [0. 0. 0. 0. 0. 0. 0. 0. 0. 0.]\n",
            " [0. 0. 0. 0. 0. 0. 0. 0. 0. 0.]\n",
            " [0. 0. 0. 0. 0. 0. 0. 0. 0. 0.]\n",
            " [0. 0. 0. 0. 0. 0. 0. 0. 0. 0.]\n",
            " [0. 0. 0. 0. 0. 0. 0. 0. 0. 0.]\n",
            " [1. 0. 0. 0. 0. 0. 0. 0. 0. 0.]\n",
            " [0. 1. 0. 0. 0. 0. 0. 0. 0. 0.]\n",
            " [0. 0. 0. 0. 0. 0. 0. 0. 0. 0.]]\n"
          ]
        }
      ],
      "source": [
        "n = 10\n",
        "p = 3\n",
        "Z = np.zeros((n,n))\n",
        "np.put(Z, np.random.choice(range(n*n), p, replace=False),1)\n",
        "print(Z)\n",
        "\n",
        "np.put(Z,11,1)\n",
        "print(Z)"
      ]
    },
    {
      "cell_type": "markdown",
      "metadata": {
        "id": "AVzk4QdjGNGl"
      },
      "source": [
        "#### 58. Subtract the mean of each row of a matrix (★★☆) \n",
        "(**hint**: mean(axis=,keepdims=))"
      ]
    },
    {
      "cell_type": "code",
      "execution_count": 35,
      "metadata": {
        "id": "t5jdz6BzGNGl",
        "colab": {
          "base_uri": "https://localhost:8080/"
        },
        "outputId": "487e011a-bb43-4043-d049-7c00a62f3b33"
      },
      "outputs": [
        {
          "output_type": "execute_result",
          "data": {
            "text/plain": [
              "array([[ True],\n",
              "       [ True],\n",
              "       [ True],\n",
              "       [ True],\n",
              "       [ True]])"
            ]
          },
          "metadata": {},
          "execution_count": 35
        }
      ],
      "source": [
        "X = np.random.rand(5, 10)\n",
        "Y = X - X.mean(axis = 1,keepdims = True)\n",
        "#print(Y)\n",
        "X.mean(axis = 1).reshape(-1,1) == X.mean(axis = 1,keepdims =True)"
      ]
    },
    {
      "cell_type": "markdown",
      "metadata": {
        "id": "cRNshi3KGNGm"
      },
      "source": [
        "#### 59. How to sort an array by the nth column? (★★☆) \n",
        "(**hint**: argsort)"
      ]
    },
    {
      "cell_type": "code",
      "execution_count": 36,
      "metadata": {
        "id": "876vGAoIGNGm",
        "colab": {
          "base_uri": "https://localhost:8080/"
        },
        "outputId": "c09f0f17-9505-4910-e24d-505e23320e6c"
      },
      "outputs": [
        {
          "output_type": "stream",
          "name": "stdout",
          "text": [
            "[[9 9 1 7 3]\n",
            " [4 2 9 8 6]\n",
            " [1 2 6 4 8]\n",
            " [2 8 0 7 0]\n",
            " [6 1 8 5 1]]\n",
            "[[9 9 1 7 3]\n",
            " [2 8 0 7 0]\n",
            " [4 2 9 8 6]\n",
            " [1 2 6 4 8]\n",
            " [6 1 8 5 1]]\n",
            "[[9 9 3 7 1]\n",
            " [2 4 6 8 9]\n",
            " [2 1 8 4 6]\n",
            " [8 2 0 7 0]\n",
            " [1 6 1 5 8]]\n"
          ]
        }
      ],
      "source": [
        "Z = np.random.randint(0,10,(5,5))\n",
        "print(Z)\n",
        "\n",
        "\n",
        "# Z_1 = Z\n",
        "# for ind in range(5):\n",
        "#     Z_1[:,ind].sort()\n",
        "#print(Z_1)\n",
        "\n",
        "\n",
        "print(Z[(-Z)[:,1].argsort()])\n",
        "print(Z[:,Z[1,:].argsort()])\n"
      ]
    },
    {
      "cell_type": "markdown",
      "metadata": {
        "id": "BmzbkZ9aGNGm"
      },
      "source": [
        "#### 60. How to tell if a given 2D array has null columns? (★★☆) \n",
        "(**hint**: any, ~)"
      ]
    },
    {
      "cell_type": "code",
      "execution_count": 37,
      "metadata": {
        "id": "Zv0v62qJGNGn",
        "colab": {
          "base_uri": "https://localhost:8080/"
        },
        "outputId": "a47970ab-da92-43f1-93af-25448ff78fba"
      },
      "outputs": [
        {
          "output_type": "stream",
          "name": "stdout",
          "text": [
            "[[ True False  True  True False  True  True  True  True  True]\n",
            " [ True False False False  True  True  True  True  True False]\n",
            " [ True False  True  True  True  True  True  True  True  True]]\n",
            "[[False  True False False  True False False False False False]\n",
            " [False  True  True  True False False False False False  True]\n",
            " [False  True False False False False False False False False]]\n"
          ]
        },
        {
          "output_type": "execute_result",
          "data": {
            "text/plain": [
              "array([ True, False,  True,  True,  True,  True,  True,  True,  True,\n",
              "        True])"
            ]
          },
          "metadata": {},
          "execution_count": 37
        }
      ],
      "source": [
        "Z = np.random.randint(0,3,(3,10))\n",
        "Z[:,1] = 0\n",
        "Z = Z.astype(bool)\n",
        "print(Z)\n",
        "print(~Z)\n",
        "(Z).any(axis = 0)"
      ]
    },
    {
      "cell_type": "markdown",
      "metadata": {
        "id": "c-5TmFszGNGn"
      },
      "source": [
        "#### 61. Find the nearest value from a given value in an array (★★☆) \n",
        "(**hint**: np.abs, argmin, flat)"
      ]
    },
    {
      "cell_type": "code",
      "execution_count": 38,
      "metadata": {
        "id": "bsTyuA1ZGNGo",
        "colab": {
          "base_uri": "https://localhost:8080/"
        },
        "outputId": "602a4449-23cc-42b0-835a-d5e5c535c867"
      },
      "outputs": [
        {
          "output_type": "stream",
          "name": "stdout",
          "text": [
            "1\n",
            "2\n"
          ]
        }
      ],
      "source": [
        "arr=np.array([8,7,1,5,3,4])\n",
        "difarr=np.absolute(arr-2)\n",
        "index=difarr.argmin()\n",
        "print(arr[index])\n",
        "print(index)"
      ]
    },
    {
      "cell_type": "markdown",
      "metadata": {
        "id": "5wdUqDi2GNGo"
      },
      "source": [
        "#### 62. Considering two arrays with shape (1,3) and (3,1), how to compute their sum using an iterator? (★★☆) \n",
        "(**hint**: np.nditer)"
      ]
    },
    {
      "cell_type": "code",
      "execution_count": 39,
      "metadata": {
        "id": "m3yVynvGGNGq",
        "colab": {
          "base_uri": "https://localhost:8080/"
        },
        "outputId": "681ed0ad-f2ae-4346-e3a4-ec20ac9dcd96"
      },
      "outputs": [
        {
          "output_type": "stream",
          "name": "stdout",
          "text": [
            "[[0 1 2]\n",
            " [1 2 3]\n",
            " [2 3 4]]\n"
          ]
        }
      ],
      "source": [
        "A = np.arange(3).reshape(3,1)\n",
        "B = np.arange(3).reshape(1,3)\n",
        "it = np.nditer([A,B,None])\n",
        "for x,y,z in it: z[...] = x + y\n",
        "print(it.operands[2])"
      ]
    },
    {
      "cell_type": "markdown",
      "metadata": {
        "id": "X7EK1Q3bGNGs"
      },
      "source": [
        "#### 63. Create an array class that has a name attribute (★★☆) \n",
        "(**hint**: class method)"
      ]
    },
    {
      "cell_type": "code",
      "execution_count": 40,
      "metadata": {
        "id": "Y8uuGlCjGNGs",
        "colab": {
          "base_uri": "https://localhost:8080/"
        },
        "outputId": "7d4bc2cf-140b-4cf8-cb67-ea708074b425"
      },
      "outputs": [
        {
          "output_type": "stream",
          "name": "stdout",
          "text": [
            "range_10\n"
          ]
        }
      ],
      "source": [
        "class NamedArray(np.ndarray):\n",
        "    def __new__(cls, array, name=\"no name\"):\n",
        "        obj = np.asarray(array).view(cls)\n",
        "        obj.name = name\n",
        "        return obj\n",
        "    def __array_finalize__(self, obj):\n",
        "        if obj is None: return\n",
        "        self.info = getattr(obj, 'name', \"no name\")\n",
        "\n",
        "Z = NamedArray(np.arange(10), \"range_10\")\n",
        "print (Z.name)"
      ]
    },
    {
      "cell_type": "markdown",
      "metadata": {
        "id": "s7RbIaxfGNGt"
      },
      "source": [
        "#### 64. Consider a given vector, how to add 1 to each element indexed by a second vector (be careful with repeated indices)? (★★★) \n",
        "(**hint**: np.bincount | np.add.at)"
      ]
    },
    {
      "cell_type": "code",
      "execution_count": 41,
      "metadata": {
        "id": "uKvsZIu6GNGt",
        "colab": {
          "base_uri": "https://localhost:8080/"
        },
        "outputId": "e4066bf7-4e80-4102-cb53-06800b813378"
      },
      "outputs": [
        {
          "output_type": "stream",
          "name": "stdout",
          "text": [
            "[3. 4. 4. 2. 1. 2. 5. 4. 2. 3.]\n",
            "[5. 7. 7. 3. 1. 3. 9. 7. 3. 5.]\n"
          ]
        }
      ],
      "source": [
        "Z = np.ones(10)\n",
        "I = np.random.randint(0,len(Z),20)\n",
        "Z += np.bincount(I, minlength=len(Z))\n",
        "print(Z)\n",
        "np.add.at(Z, I, 1)\n",
        "print(Z)"
      ]
    },
    {
      "cell_type": "markdown",
      "metadata": {
        "id": "pkg7eNUXGNGt"
      },
      "source": [
        "#### 65. How to accumulate elements of a vector (X) to an array (F) based on an index list (I)? (★★★) \n",
        "(**hint**: np.bincount)"
      ]
    },
    {
      "cell_type": "code",
      "execution_count": 42,
      "metadata": {
        "id": "l7cvPZlTGNGu",
        "colab": {
          "base_uri": "https://localhost:8080/"
        },
        "outputId": "46ab4c64-c3e6-47f1-bb42-5e37b6d72831"
      },
      "outputs": [
        {
          "output_type": "stream",
          "name": "stdout",
          "text": [
            "[0. 7. 0. 6. 5. 0. 0. 0. 0. 3.]\n"
          ]
        }
      ],
      "source": [
        "X = [1,2,3,4,5,6]\n",
        "I = [1,3,9,3,4,1]\n",
        "F = np.bincount(I,X)\n",
        "print(F)"
      ]
    },
    {
      "cell_type": "markdown",
      "metadata": {
        "id": "h3OZVW_DGNGu"
      },
      "source": [
        "#### 66. Considering a (w,h,3) image of (dtype=ubyte), compute the number of unique colors (★★★) \n",
        "(**hint**: np.unique)"
      ]
    },
    {
      "cell_type": "code",
      "execution_count": 44,
      "metadata": {
        "id": "9xX9u0eEGNGv",
        "colab": {
          "base_uri": "https://localhost:8080/"
        },
        "outputId": "2b2be12a-07e9-427b-ec1e-f95ad56140ab"
      },
      "outputs": [
        {
          "output_type": "stream",
          "name": "stdout",
          "text": [
            "64\n",
            "64\n"
          ]
        }
      ],
      "source": [
        " w, h = 256, 256\n",
        "I = np.random.randint(0, 4, (h, w, 3)).astype(np.ubyte)\n",
        "colors = np.unique(I.reshape(-1, 3), axis=0)\n",
        "n = len(colors)\n",
        "print(n)\n",
        "\n",
        "\n",
        "w, h = 256, 256\n",
        "I = np.random.randint(0,4,(h,w,3), dtype=np.uint8)\n",
        "\n",
        "# View each pixel as a single 24-bit integer, rather than three 8-bit bytes\n",
        "I24 = np.dot(I.astype(np.uint32),[1,256,65536])\n",
        "\n",
        "# Count unique colours\n",
        "n = len(np.unique(I24))\n",
        "print(n)"
      ]
    },
    {
      "cell_type": "markdown",
      "metadata": {
        "id": "tOmebOOhGNGv"
      },
      "source": [
        "#### 67. Considering a four dimensions array, how to get sum over the last two axis at once? (★★★) \n",
        "(**hint**: sum(axis=(-2,-1)))"
      ]
    },
    {
      "cell_type": "code",
      "execution_count": 45,
      "metadata": {
        "id": "swMnSF7qGNGv",
        "colab": {
          "base_uri": "https://localhost:8080/"
        },
        "outputId": "65b122c4-bb3a-4a2f-e625-2076406c3ae5"
      },
      "outputs": [
        {
          "output_type": "stream",
          "name": "stdout",
          "text": [
            "[[52 71 49 43]\n",
            " [33 59 48 55]\n",
            " [47 49 50 56]]\n",
            "[[52 71 49 43]\n",
            " [33 59 48 55]\n",
            " [47 49 50 56]]\n"
          ]
        }
      ],
      "source": [
        "A = np.random.randint(0,10,(3,4,3,4)) \n",
        "sum = A.sum(axis=(-2,-1))\n",
        "print(sum)\n",
        "sum = A.reshape(A.shape[:-2] + (-1,)).sum(axis=-1)\n",
        "print(sum)"
      ]
    },
    {
      "cell_type": "markdown",
      "metadata": {
        "id": "hipl1PjtGNGw"
      },
      "source": [
        "#### 68. Considering a one-dimensional vector D, how to compute means of subsets of D using a vector S of same size describing subset  indices? (★★★) \n",
        "(**hint**: np.bincount)"
      ]
    },
    {
      "cell_type": "code",
      "execution_count": 46,
      "metadata": {
        "id": "dlCkMqfbGNGw",
        "colab": {
          "base_uri": "https://localhost:8080/"
        },
        "outputId": "615275ed-9d64-44d2-a7c6-837c04d82c05"
      },
      "outputs": [
        {
          "output_type": "stream",
          "name": "stdout",
          "text": [
            "[0.48976823 0.61193089 0.45839621 0.48933835 0.59074838 0.46090455\n",
            " 0.57023268 0.65515663 0.40538293 0.47301742]\n",
            "0    0.489768\n",
            "1    0.611931\n",
            "2    0.458396\n",
            "3    0.489338\n",
            "4    0.590748\n",
            "5    0.460905\n",
            "6    0.570233\n",
            "7    0.655157\n",
            "8    0.405383\n",
            "9    0.473017\n",
            "dtype: float64\n"
          ]
        }
      ],
      "source": [
        "D = np.random.uniform(0,1,100)\n",
        "S = np.random.randint(0,10,100)\n",
        "D_sums = np.bincount(S, weights=D)\n",
        "D_counts = np.bincount(S)\n",
        "D_means = D_sums / D_counts\n",
        "print(D_means)\n",
        "import pandas as pd\n",
        "print(pd.Series(D).groupby(S).mean())"
      ]
    },
    {
      "cell_type": "markdown",
      "metadata": {
        "id": "IFyRukrtGNGw"
      },
      "source": [
        "#### 69. How to get the diagonal of a dot product? (★★★) \n",
        "(**hint**: np.diag)"
      ]
    },
    {
      "cell_type": "code",
      "execution_count": 47,
      "metadata": {
        "id": "myO7jdd3GNGx",
        "colab": {
          "base_uri": "https://localhost:8080/"
        },
        "outputId": "d2b27611-bb84-4a2c-927f-b5a6d8d2ccee"
      },
      "outputs": [
        {
          "output_type": "execute_result",
          "data": {
            "text/plain": [
              "array([2.13186279, 1.75541745, 1.40154469, 0.83734069, 1.33401978])"
            ]
          },
          "metadata": {},
          "execution_count": 47
        }
      ],
      "source": [
        "\n",
        "A = np.random.uniform(0,1,(5,5))\n",
        "B = np.random.uniform(0,1,(5,5))\n",
        "\n",
        "# Slow version\n",
        "np.diag(np.dot(A, B))\n",
        "\n",
        "# Fast version\n",
        "np.sum(A * B.T, axis=1)\n",
        "\n",
        "# Faster version\n",
        "np.einsum(\"ij,ji->i\", A, B)"
      ]
    },
    {
      "cell_type": "markdown",
      "metadata": {
        "id": "g4X90BYiGNGx"
      },
      "source": [
        "#### 70. Consider the vector \\[1, 2, 3, 4, 5\\], how to build a new vector with 3 consecutive zeros interleaved between each value? (★★★) \n",
        "(**hint**: array\\[::4\\])"
      ]
    },
    {
      "cell_type": "code",
      "execution_count": 48,
      "metadata": {
        "id": "Gm_gVTz8GNGy",
        "colab": {
          "base_uri": "https://localhost:8080/"
        },
        "outputId": "b6046a59-3cc5-40c2-b38d-53543f5b63c2"
      },
      "outputs": [
        {
          "output_type": "stream",
          "name": "stdout",
          "text": [
            "[1. 0. 0. 0. 2. 0. 0. 0. 3. 0. 0. 0. 4. 0. 0. 0. 5.]\n"
          ]
        }
      ],
      "source": [
        "Z = np.array([1,2,3,4,5])\n",
        "nz = 3\n",
        "Z0 = np.zeros(len(Z) + (len(Z)-1)*(nz))\n",
        "Z0[::nz+1] = Z\n",
        "print(Z0)"
      ]
    },
    {
      "cell_type": "markdown",
      "metadata": {
        "id": "48cao2gyGNGy"
      },
      "source": [
        "#### 71. Consider an array of dimension (5,5,3), how to mulitply it by an array with dimensions (5,5)? (★★★) \n",
        "(**hint**: array\\[:, :, None\\])"
      ]
    },
    {
      "cell_type": "code",
      "execution_count": 49,
      "metadata": {
        "collapsed": true,
        "id": "TvqOzJr4GNGy",
        "colab": {
          "base_uri": "https://localhost:8080/"
        },
        "outputId": "7b3a962a-4fc7-4510-9548-bcfae263f739"
      },
      "outputs": [
        {
          "output_type": "stream",
          "name": "stdout",
          "text": [
            "[[[2. 2. 2.]\n",
            "  [2. 2. 2.]\n",
            "  [2. 2. 2.]\n",
            "  [2. 2. 2.]\n",
            "  [2. 2. 2.]]\n",
            "\n",
            " [[2. 2. 2.]\n",
            "  [2. 2. 2.]\n",
            "  [2. 2. 2.]\n",
            "  [2. 2. 2.]\n",
            "  [2. 2. 2.]]\n",
            "\n",
            " [[2. 2. 2.]\n",
            "  [2. 2. 2.]\n",
            "  [2. 2. 2.]\n",
            "  [2. 2. 2.]\n",
            "  [2. 2. 2.]]\n",
            "\n",
            " [[2. 2. 2.]\n",
            "  [2. 2. 2.]\n",
            "  [2. 2. 2.]\n",
            "  [2. 2. 2.]\n",
            "  [2. 2. 2.]]\n",
            "\n",
            " [[2. 2. 2.]\n",
            "  [2. 2. 2.]\n",
            "  [2. 2. 2.]\n",
            "  [2. 2. 2.]\n",
            "  [2. 2. 2.]]]\n"
          ]
        }
      ],
      "source": [
        "A = np.ones((5,5,3))\n",
        "B = 2*np.ones((5,5))\n",
        "print(A * B[:,:,None])"
      ]
    },
    {
      "cell_type": "markdown",
      "metadata": {
        "id": "L-W1mSrFGNGz"
      },
      "source": [
        "#### 72. How to swap two rows of an array? (★★★) \n",
        "(**hint**: array\\[\\[\\]\\] = array\\[\\[\\]\\])"
      ]
    },
    {
      "cell_type": "code",
      "execution_count": 50,
      "metadata": {
        "id": "RuxMAyPhGNG0",
        "colab": {
          "base_uri": "https://localhost:8080/"
        },
        "outputId": "4ce36046-1780-40e0-ba1d-5765c5d8ca64"
      },
      "outputs": [
        {
          "output_type": "stream",
          "name": "stdout",
          "text": [
            "[[ 5  6  7  8  9]\n",
            " [ 0  1  2  3  4]\n",
            " [10 11 12 13 14]\n",
            " [15 16 17 18 19]\n",
            " [20 21 22 23 24]]\n"
          ]
        }
      ],
      "source": [
        "A = np.arange(25).reshape(5,5)\n",
        "A[[0,1]] = A[[1,0]]\n",
        "print(A)"
      ]
    },
    {
      "cell_type": "markdown",
      "metadata": {
        "id": "OPIUdfVfGNG0"
      },
      "source": [
        "#### 73. Consider a set of 10 triplets describing 10 triangles (with shared vertices), find the set of unique line segments composing all the  triangles (★★★) \n",
        "(**hint**: repeat, np.roll, np.sort, view, np.unique)"
      ]
    },
    {
      "cell_type": "code",
      "execution_count": 51,
      "metadata": {
        "id": "iZ8bXTV0GNG4",
        "colab": {
          "base_uri": "https://localhost:8080/"
        },
        "outputId": "838171b9-9e2a-4165-b1eb-4f30d019f9b4"
      },
      "outputs": [
        {
          "output_type": "stream",
          "name": "stdout",
          "text": [
            "[( 0,  0) ( 0, 53) (10, 60) (10, 82) (17, 27) (17, 79) (18, 22) (18, 79)\n",
            " (21, 36) (21, 37) (22, 79) (26, 63) (26, 95) (27, 40) (27, 42) (27, 79)\n",
            " (27, 92) (27, 93) (36, 37) (38, 41) (38, 52) (40, 93) (41, 52) (42, 92)\n",
            " (60, 82) (62, 85) (62, 90) (63, 95) (85, 90)]\n"
          ]
        }
      ],
      "source": [
        "faces = np.random.randint(0,100,(10,3))\n",
        "F = np.roll(faces.repeat(2,axis=1),-1,axis=1)\n",
        "F = F.reshape(len(F)*3,2)\n",
        "F = np.sort(F,axis=1)\n",
        "G = F.view( dtype=[('p0',F.dtype),('p1',F.dtype)] )\n",
        "G = np.unique(G)\n",
        "print(G)"
      ]
    },
    {
      "cell_type": "markdown",
      "metadata": {
        "id": "FCztLHVXGNG5"
      },
      "source": [
        "#### 74. Given an array C that is a bincount, how to produce an array A such that np.bincount(A) == C? (★★★) \n",
        "(**hint**: np.repeat)"
      ]
    },
    {
      "cell_type": "code",
      "execution_count": 52,
      "metadata": {
        "id": "qK30i2qWGNG9",
        "colab": {
          "base_uri": "https://localhost:8080/"
        },
        "outputId": "64e56642-f6ab-4ffa-883a-e0e0612468da"
      },
      "outputs": [
        {
          "output_type": "stream",
          "name": "stdout",
          "text": [
            "[1 1 2 3 4 4 6]\n"
          ]
        }
      ],
      "source": [
        "C = np.bincount([1,1,2,3,4,4,6])\n",
        "A = np.repeat(np.arange(len(C)), C)\n",
        "print(A)"
      ]
    },
    {
      "cell_type": "markdown",
      "metadata": {
        "id": "uSF6gZ0JGNG-"
      },
      "source": [
        "#### 75. How to compute averages using a sliding window over an array? (★★★) \n",
        "(**hint**: np.cumsum)"
      ]
    },
    {
      "cell_type": "code",
      "execution_count": 53,
      "metadata": {
        "id": "350g2GaiGNG_",
        "colab": {
          "base_uri": "https://localhost:8080/"
        },
        "outputId": "04843da2-8f8d-489c-ec2d-fc6542b1724d"
      },
      "outputs": [
        {
          "output_type": "stream",
          "name": "stdout",
          "text": [
            "[ 1.  2.  3.  4.  5.  6.  7.  8.  9. 10. 11. 12. 13. 14. 15. 16. 17. 18.]\n",
            "[ 1.  2.  3.  4.  5.  6.  7.  8.  9. 10. 11. 12. 13. 14. 15. 16. 17. 18.]\n"
          ]
        }
      ],
      "source": [
        "\n",
        "def moving_average(a, n=3) :\n",
        "    ret = np.cumsum(a, dtype=float)\n",
        "    ret[n:] = ret[n:] - ret[:-n]\n",
        "    return ret[n - 1:] / n\n",
        "Z = np.arange(20)\n",
        "print(moving_average(Z, n=3))\n",
        "\n",
        "from numpy.lib.stride_tricks import sliding_window_view\n",
        "\n",
        "Z = np.arange(20)\n",
        "print(sliding_window_view(Z, window_shape=3).mean(axis=-1))"
      ]
    },
    {
      "cell_type": "markdown",
      "metadata": {
        "id": "QT9bfNrmGNHA"
      },
      "source": [
        "#### 76. Consider a one-dimensional array Z, build a two-dimensional array whose first row is (Z\\[0\\],Z\\[1\\],Z\\[2\\]) and each subsequent row is  shifted by 1 (last row should be (Z\\[-3\\],Z\\[-2\\],Z\\[-1\\]) (★★★) \n",
        "(**hint**: from numpy.lib import stride_tricks)"
      ]
    },
    {
      "cell_type": "code",
      "execution_count": 54,
      "metadata": {
        "id": "Kf98x-ALGNHA",
        "colab": {
          "base_uri": "https://localhost:8080/"
        },
        "outputId": "59f53418-93e0-46dd-ebb5-0a5710d37d9d"
      },
      "outputs": [
        {
          "output_type": "stream",
          "name": "stdout",
          "text": [
            "[[0 1 2]\n",
            " [1 2 3]\n",
            " [2 3 4]\n",
            " [3 4 5]\n",
            " [4 5 6]\n",
            " [5 6 7]\n",
            " [6 7 8]\n",
            " [7 8 9]]\n",
            "[[0 1 2]\n",
            " [1 2 3]\n",
            " [2 3 4]\n",
            " [3 4 5]\n",
            " [4 5 6]\n",
            " [5 6 7]\n",
            " [6 7 8]\n",
            " [7 8 9]]\n"
          ]
        }
      ],
      "source": [
        "from numpy.lib import stride_tricks\n",
        "\n",
        "def rolling(a, window):\n",
        "    shape = (a.size - window + 1, window)\n",
        "    strides = (a.strides[0], a.strides[0])\n",
        "    return stride_tricks.as_strided(a, shape=shape, strides=strides)\n",
        "Z = rolling(np.arange(10), 3)\n",
        "print(Z)\n",
        "\n",
        "Z = np.arange(10)\n",
        "print(sliding_window_view(Z, window_shape=3))"
      ]
    },
    {
      "cell_type": "markdown",
      "metadata": {
        "id": "M0svpdHOGNHB"
      },
      "source": [
        "#### 77. How to negate a boolean, or to change the sign of a float inplace? (★★★) \n",
        "(**hint**: np.logical_not, np.negative)"
      ]
    },
    {
      "cell_type": "code",
      "execution_count": 55,
      "metadata": {
        "id": "Obha6qLaGNHC",
        "colab": {
          "base_uri": "https://localhost:8080/"
        },
        "outputId": "af960b91-430e-4a86-b449-c7a306647a10"
      },
      "outputs": [
        {
          "output_type": "execute_result",
          "data": {
            "text/plain": [
              "array([ 0.94991629, -0.35819643, -0.43622377, -0.08120447,  0.61207052,\n",
              "        0.35582811, -0.44125723,  0.8292141 , -0.70337212, -0.22393137,\n",
              "       -0.61166945,  0.03859224, -0.68286368, -0.07319295, -0.33197245,\n",
              "       -0.75643049, -0.84761205,  0.20596666, -0.63091795, -0.60959605,\n",
              "       -0.96413679,  0.65230984,  0.47949864,  0.84347451,  0.89518824,\n",
              "       -0.17059856,  0.49140991, -0.96732144,  0.02311508, -0.60431319,\n",
              "       -0.25065518,  0.27608968, -0.55471333, -0.00471012, -0.04876961,\n",
              "       -0.28829741,  0.85690955, -0.20649688,  0.18672011, -0.94806167,\n",
              "        0.71993551, -0.25098075,  0.41332669,  0.57996882, -0.17292977,\n",
              "       -0.16322639,  0.95305893,  0.24838653,  0.43831843,  0.1914526 ,\n",
              "       -0.49939179,  0.51358441, -0.25922407,  0.15217437,  0.49918896,\n",
              "        0.88464717,  0.47225376,  0.08420026,  0.12533793,  0.49538501,\n",
              "        0.1793466 ,  0.83240998, -0.71360316,  0.96668061, -0.53047213,\n",
              "        0.83629257,  0.41066312,  0.04684041,  0.71371332, -0.03737705,\n",
              "        0.51171693,  0.53890043,  0.43066834,  0.85539237,  0.54078408,\n",
              "        0.45304493,  0.74383027,  0.44852941,  0.5480341 ,  0.26917328,\n",
              "        0.56628149, -0.47462427,  0.20200895, -0.82440629,  0.43571232,\n",
              "        0.81455647, -0.89714438,  0.36684344,  0.13253652, -0.53106328,\n",
              "        0.78774891,  0.36356098, -0.73728546, -0.81942709,  0.81456744,\n",
              "        0.73054243,  0.52738339, -0.4075184 , -0.21418264, -0.91401322])"
            ]
          },
          "metadata": {},
          "execution_count": 55
        }
      ],
      "source": [
        "Z = np.random.randint(0,2,100)\n",
        "np.logical_not(Z, out=Z)\n",
        "\n",
        "Z = np.random.uniform(-1.0,1.0,100)\n",
        "np.negative(Z, out=Z)"
      ]
    },
    {
      "cell_type": "markdown",
      "metadata": {
        "id": "2t-B_esfGNHD"
      },
      "source": [
        "#### 78. Consider 2 sets of points P0,P1 describing lines (2d) and a point p, how to compute distance from p to each line i  (P0\\[i\\],P1\\[i\\])? (★★★)"
      ]
    },
    {
      "cell_type": "code",
      "execution_count": 56,
      "metadata": {
        "id": "zfCgKPsPGNHD",
        "colab": {
          "base_uri": "https://localhost:8080/"
        },
        "outputId": "144d993f-cf99-4c9b-ca62-fd1b644225c0"
      },
      "outputs": [
        {
          "output_type": "stream",
          "name": "stdout",
          "text": [
            "[1.96539985 3.59983423 0.1866475  5.64930189 1.32289404 4.50198065\n",
            " 2.36904529 4.97895543 7.45844554 4.08067327]\n"
          ]
        }
      ],
      "source": [
        "def distance(P0, P1, p):\n",
        "    T = P1 - P0\n",
        "    L = (T**2).sum(axis=1)\n",
        "    U = -((P0[:,0]-p[...,0])*T[:,0] + (P0[:,1]-p[...,1])*T[:,1]) / L\n",
        "    U = U.reshape(len(U),1)\n",
        "    D = P0 + U*T - p\n",
        "    return np.sqrt((D**2).sum(axis=1))\n",
        "\n",
        "P0 = np.random.uniform(-10,10,(10,2))\n",
        "P1 = np.random.uniform(-10,10,(10,2))\n",
        "p  = np.random.uniform(-10,10,( 1,2))\n",
        "print(distance(P0, P1, p))"
      ]
    },
    {
      "cell_type": "markdown",
      "metadata": {
        "id": "-C4oZG-lGNHE"
      },
      "source": [
        "#### 79. Consider 2 sets of points P0,P1 describing lines (2d) and a set of points P, how to compute distance from each point j (P\\[j\\]) to each line i (P0\\[i\\],P1\\[i\\])? (★★★)"
      ]
    },
    {
      "cell_type": "code",
      "execution_count": 57,
      "metadata": {
        "id": "Pes2qBSIGNHF",
        "colab": {
          "base_uri": "https://localhost:8080/"
        },
        "outputId": "04b043c4-9aa1-41cc-a8ea-56ffb39d1942"
      },
      "outputs": [
        {
          "output_type": "stream",
          "name": "stdout",
          "text": [
            "[[ 0.31724514 10.36850112  1.5970692   2.37166416  5.98481718  7.16211977\n",
            "   2.03020021  8.55861955  8.73110737 10.42161692]\n",
            " [ 7.382459   17.13381556  1.12361897  5.94450799 11.89090298  9.16641634\n",
            "   1.85241575 13.74910421 11.70854258 15.40124089]\n",
            " [ 4.56314417 13.47922639  4.25525675  0.18321613  7.15580228  3.31829358\n",
            "   3.61774952  8.52732454  5.87355441 10.07293785]\n",
            " [ 7.98347871  0.33570079  9.99986598 11.28950011  6.145396    6.21195706\n",
            "   9.85583914  4.41645486  4.90999753  2.72190041]\n",
            " [ 3.41118231  5.52095345  5.60083953  5.31325825  0.31328165  0.64845861\n",
            "   5.28802974  1.60517864  0.94399656  3.32440728]\n",
            " [ 5.27600344 14.43068393  2.7354585   1.76435125  8.42130677  4.94183473\n",
            "   2.07563477  9.93804289  7.48225541 11.51606127]\n",
            " [ 2.16740351  6.50809934  6.8726603   5.60973485  0.21877636  1.37320549\n",
            "   6.5021029   1.84642346  0.47625654  3.48783318]\n",
            " [ 6.00594894 15.71777533  0.64471049  4.80366591 10.49625396  8.25805886\n",
            "   1.31864117 12.41465875 10.65177116 14.08831859]\n",
            " [ 7.06596588 15.829614    4.69231966  1.23914499  9.13295514  3.78409182\n",
            "   3.94878279 10.21362157  6.70350354 11.67531485]\n",
            " [ 1.80019848  9.75522076  9.98492002  7.72190816  7.73708365 14.03804045\n",
            "  10.28990687 11.66903558 14.72081692 13.87760505]]\n"
          ]
        }
      ],
      "source": [
        "P0 = np.random.uniform(-10, 10, (10,2))\n",
        "P1 = np.random.uniform(-10,10,(10,2))\n",
        "p = np.random.uniform(-10, 10, (10,2))\n",
        "print(np.array([distance(P0,P1,p_i) for p_i in p]))"
      ]
    },
    {
      "cell_type": "markdown",
      "metadata": {
        "id": "_L7Dt5pQGNHG"
      },
      "source": [
        "#### 80. Consider an arbitrary array, write a function that extract a subpart with a fixed shape and centered on a given element (pad with a `fill` value when necessary) (★★★) \n",
        "(**hint**: minimum, maximum)"
      ]
    },
    {
      "cell_type": "code",
      "execution_count": 58,
      "metadata": {
        "id": "3cJM0JxnGNHI",
        "colab": {
          "base_uri": "https://localhost:8080/"
        },
        "outputId": "e649b0f1-a39f-42ea-f09f-2c2ccc7137a2"
      },
      "outputs": [
        {
          "output_type": "stream",
          "name": "stdout",
          "text": [
            "[[7 5 0 1 2 7 7 7 7 1]\n",
            " [7 7 1 2 2 1 1 9 4 4]\n",
            " [6 2 1 6 1 0 5 6 4 3]\n",
            " [1 7 3 0 5 1 6 2 0 6]\n",
            " [7 1 2 3 5 6 3 9 3 8]\n",
            " [0 3 2 5 7 2 4 2 1 6]\n",
            " [8 0 4 4 8 9 2 1 2 9]\n",
            " [8 1 6 2 1 0 0 1 9 6]\n",
            " [4 2 8 7 2 2 4 3 3 7]\n",
            " [3 3 8 1 1 2 1 3 0 3]]\n",
            "[[0 0 0 0 0]\n",
            " [0 7 5 0 1]\n",
            " [0 7 7 1 2]\n",
            " [0 6 2 1 6]\n",
            " [0 1 7 3 0]]\n"
          ]
        },
        {
          "output_type": "stream",
          "name": "stderr",
          "text": [
            "/usr/local/lib/python3.7/dist-packages/ipykernel_launcher.py:23: FutureWarning: Using a non-tuple sequence for multidimensional indexing is deprecated; use `arr[tuple(seq)]` instead of `arr[seq]`. In the future this will be interpreted as an array index, `arr[np.array(seq)]`, which will result either in an error or a different result.\n"
          ]
        }
      ],
      "source": [
        "Z = np.random.randint(0,10,(10,10))\n",
        "shape = (5,5)\n",
        "fill  = 0\n",
        "position = (1,1)\n",
        "\n",
        "R = np.ones(shape, dtype=Z.dtype)*fill\n",
        "P  = np.array(list(position)).astype(int)\n",
        "Rs = np.array(list(R.shape)).astype(int)\n",
        "Zs = np.array(list(Z.shape)).astype(int)\n",
        "\n",
        "R_start = np.zeros((len(shape),)).astype(int)\n",
        "R_stop  = np.array(list(shape)).astype(int)\n",
        "Z_start = (P-Rs//2)\n",
        "Z_stop  = (P+Rs//2)+Rs%2\n",
        "\n",
        "R_start = (R_start - np.minimum(Z_start,0)).tolist()\n",
        "Z_start = (np.maximum(Z_start,0)).tolist()\n",
        "R_stop = np.maximum(R_start, (R_stop - np.maximum(Z_stop-Zs,0))).tolist()\n",
        "Z_stop = (np.minimum(Z_stop,Zs)).tolist()\n",
        "\n",
        "r = [slice(start,stop) for start,stop in zip(R_start,R_stop)]\n",
        "z = [slice(start,stop) for start,stop in zip(Z_start,Z_stop)]\n",
        "R[r] = Z[z]\n",
        "print(Z)\n",
        "print(R)"
      ]
    },
    {
      "cell_type": "markdown",
      "metadata": {
        "id": "YC3FG-SjGNHJ"
      },
      "source": [
        "#### 81. Consider an array Z = \\[1,2,3,4,5,6,7,8,9,10,11,12,13,14\\], how to generate an array R = \\[\\[1,2,3,4\\], \\[2,3,4,5\\], \\[3,4,5,6\\], ..., \\[11,12,13,14\\]\\]? (★★★) \n",
        "(**hint**: stride\\_tricks.as\\_strided)"
      ]
    },
    {
      "cell_type": "code",
      "execution_count": 60,
      "metadata": {
        "id": "XiT1pL2TGNHK",
        "colab": {
          "base_uri": "https://localhost:8080/"
        },
        "outputId": "8975bdcd-afec-49cd-ad6a-384fd409ed17"
      },
      "outputs": [
        {
          "output_type": "stream",
          "name": "stdout",
          "text": [
            "[[ 1  2  3  4]\n",
            " [ 2  3  4  5]\n",
            " [ 3  4  5  6]\n",
            " [ 4  5  6  7]\n",
            " [ 5  6  7  8]\n",
            " [ 6  7  8  9]\n",
            " [ 7  8  9 10]\n",
            " [ 8  9 10 11]\n",
            " [ 9 10 11 12]\n",
            " [10 11 12 13]\n",
            " [11 12 13 14]]\n",
            "[[ 1  2  3  4]\n",
            " [ 2  3  4  5]\n",
            " [ 3  4  5  6]\n",
            " [ 4  5  6  7]\n",
            " [ 5  6  7  8]\n",
            " [ 6  7  8  9]\n",
            " [ 7  8  9 10]\n",
            " [ 8  9 10 11]\n",
            " [ 9 10 11 12]\n",
            " [10 11 12 13]\n",
            " [11 12 13 14]]\n"
          ]
        }
      ],
      "source": [
        "\n",
        "\n",
        "Z = np.arange(1,15,dtype=np.uint32)\n",
        "R = stride_tricks.as_strided(Z,(11,4),(4,4))\n",
        "print(R)\n",
        "Z = np.arange(1, 15, dtype=np.uint32)\n",
        "print(sliding_window_view(Z, window_shape=4))\n",
        "\n",
        "\n",
        " "
      ]
    },
    {
      "cell_type": "markdown",
      "metadata": {
        "id": "JvC_ZYjkGNHN"
      },
      "source": [
        "#### 82. Compute a matrix rank (★★★) \n",
        "(**hint**: np.linalg.svd) (suggestion: np.linalg.svd)"
      ]
    },
    {
      "cell_type": "code",
      "execution_count": 59,
      "metadata": {
        "id": "ByAOPhhhGNHO",
        "colab": {
          "base_uri": "https://localhost:8080/"
        },
        "outputId": "c467339b-71ed-425f-ce70-b004a7efe08d"
      },
      "outputs": [
        {
          "output_type": "stream",
          "name": "stdout",
          "text": [
            "10\n",
            "10\n"
          ]
        }
      ],
      "source": [
        "\n",
        "Z = np.random.uniform(0,1,(10,10))\n",
        "U, S, V = np.linalg.svd(Z) # Singular Value Decomposition\n",
        "rank = np.sum(S > 1e-10)\n",
        "print(rank)\n",
        "\n",
        "rank = np.linalg.matrix_rank(Z)\n",
        "print(rank)"
      ]
    },
    {
      "cell_type": "markdown",
      "metadata": {
        "id": "tSoFMJrMGNHP"
      },
      "source": [
        "#### 83. How to find the most frequent value in an array? \n",
        "(**hint**: np.bincount, argmax)"
      ]
    },
    {
      "cell_type": "code",
      "execution_count": 61,
      "metadata": {
        "id": "KAqWyjXnGNHP",
        "colab": {
          "base_uri": "https://localhost:8080/"
        },
        "outputId": "b93cfb79-e64a-4663-fc6a-df176aedec50"
      },
      "outputs": [
        {
          "output_type": "stream",
          "name": "stdout",
          "text": [
            "2\n"
          ]
        }
      ],
      "source": [
        "Z = np.random.randint(0,10,50)\n",
        "print(np.bincount(Z).argmax())"
      ]
    },
    {
      "cell_type": "markdown",
      "metadata": {
        "id": "oK7ECwZqGNHQ"
      },
      "source": [
        "#### 84. Extract all the contiguous 3x3 blocks from a random 10x10 matrix (★★★) \n",
        "(**hint**: stride\\_tricks.as\\_strided)"
      ]
    },
    {
      "cell_type": "code",
      "execution_count": 62,
      "metadata": {
        "id": "hKyqpsaRGNHR",
        "colab": {
          "base_uri": "https://localhost:8080/"
        },
        "outputId": "2014b970-0774-49d7-fd31-71ea1aec12ed"
      },
      "outputs": [
        {
          "output_type": "stream",
          "name": "stdout",
          "text": [
            "[[[[2 2 2]\n",
            "   [1 4 4]\n",
            "   [3 2 0]]\n",
            "\n",
            "  [[2 2 0]\n",
            "   [4 4 3]\n",
            "   [2 0 1]]\n",
            "\n",
            "  [[2 0 3]\n",
            "   [4 3 4]\n",
            "   [0 1 0]]\n",
            "\n",
            "  [[0 3 3]\n",
            "   [3 4 3]\n",
            "   [1 0 2]]\n",
            "\n",
            "  [[3 3 2]\n",
            "   [4 3 3]\n",
            "   [0 2 2]]\n",
            "\n",
            "  [[3 2 3]\n",
            "   [3 3 0]\n",
            "   [2 2 0]]\n",
            "\n",
            "  [[2 3 0]\n",
            "   [3 0 3]\n",
            "   [2 0 4]]\n",
            "\n",
            "  [[3 0 0]\n",
            "   [0 3 4]\n",
            "   [0 4 4]]]\n",
            "\n",
            "\n",
            " [[[1 4 4]\n",
            "   [3 2 0]\n",
            "   [0 2 2]]\n",
            "\n",
            "  [[4 4 3]\n",
            "   [2 0 1]\n",
            "   [2 2 1]]\n",
            "\n",
            "  [[4 3 4]\n",
            "   [0 1 0]\n",
            "   [2 1 1]]\n",
            "\n",
            "  [[3 4 3]\n",
            "   [1 0 2]\n",
            "   [1 1 0]]\n",
            "\n",
            "  [[4 3 3]\n",
            "   [0 2 2]\n",
            "   [1 0 1]]\n",
            "\n",
            "  [[3 3 0]\n",
            "   [2 2 0]\n",
            "   [0 1 3]]\n",
            "\n",
            "  [[3 0 3]\n",
            "   [2 0 4]\n",
            "   [1 3 3]]\n",
            "\n",
            "  [[0 3 4]\n",
            "   [0 4 4]\n",
            "   [3 3 1]]]\n",
            "\n",
            "\n",
            " [[[3 2 0]\n",
            "   [0 2 2]\n",
            "   [2 0 0]]\n",
            "\n",
            "  [[2 0 1]\n",
            "   [2 2 1]\n",
            "   [0 0 4]]\n",
            "\n",
            "  [[0 1 0]\n",
            "   [2 1 1]\n",
            "   [0 4 2]]\n",
            "\n",
            "  [[1 0 2]\n",
            "   [1 1 0]\n",
            "   [4 2 1]]\n",
            "\n",
            "  [[0 2 2]\n",
            "   [1 0 1]\n",
            "   [2 1 2]]\n",
            "\n",
            "  [[2 2 0]\n",
            "   [0 1 3]\n",
            "   [1 2 0]]\n",
            "\n",
            "  [[2 0 4]\n",
            "   [1 3 3]\n",
            "   [2 0 0]]\n",
            "\n",
            "  [[0 4 4]\n",
            "   [3 3 1]\n",
            "   [0 0 2]]]\n",
            "\n",
            "\n",
            " [[[0 2 2]\n",
            "   [2 0 0]\n",
            "   [4 3 2]]\n",
            "\n",
            "  [[2 2 1]\n",
            "   [0 0 4]\n",
            "   [3 2 2]]\n",
            "\n",
            "  [[2 1 1]\n",
            "   [0 4 2]\n",
            "   [2 2 3]]\n",
            "\n",
            "  [[1 1 0]\n",
            "   [4 2 1]\n",
            "   [2 3 1]]\n",
            "\n",
            "  [[1 0 1]\n",
            "   [2 1 2]\n",
            "   [3 1 1]]\n",
            "\n",
            "  [[0 1 3]\n",
            "   [1 2 0]\n",
            "   [1 1 4]]\n",
            "\n",
            "  [[1 3 3]\n",
            "   [2 0 0]\n",
            "   [1 4 4]]\n",
            "\n",
            "  [[3 3 1]\n",
            "   [0 0 2]\n",
            "   [4 4 3]]]\n",
            "\n",
            "\n",
            " [[[2 0 0]\n",
            "   [4 3 2]\n",
            "   [0 2 0]]\n",
            "\n",
            "  [[0 0 4]\n",
            "   [3 2 2]\n",
            "   [2 0 0]]\n",
            "\n",
            "  [[0 4 2]\n",
            "   [2 2 3]\n",
            "   [0 0 3]]\n",
            "\n",
            "  [[4 2 1]\n",
            "   [2 3 1]\n",
            "   [0 3 1]]\n",
            "\n",
            "  [[2 1 2]\n",
            "   [3 1 1]\n",
            "   [3 1 3]]\n",
            "\n",
            "  [[1 2 0]\n",
            "   [1 1 4]\n",
            "   [1 3 3]]\n",
            "\n",
            "  [[2 0 0]\n",
            "   [1 4 4]\n",
            "   [3 3 0]]\n",
            "\n",
            "  [[0 0 2]\n",
            "   [4 4 3]\n",
            "   [3 0 3]]]\n",
            "\n",
            "\n",
            " [[[4 3 2]\n",
            "   [0 2 0]\n",
            "   [2 2 1]]\n",
            "\n",
            "  [[3 2 2]\n",
            "   [2 0 0]\n",
            "   [2 1 3]]\n",
            "\n",
            "  [[2 2 3]\n",
            "   [0 0 3]\n",
            "   [1 3 4]]\n",
            "\n",
            "  [[2 3 1]\n",
            "   [0 3 1]\n",
            "   [3 4 0]]\n",
            "\n",
            "  [[3 1 1]\n",
            "   [3 1 3]\n",
            "   [4 0 1]]\n",
            "\n",
            "  [[1 1 4]\n",
            "   [1 3 3]\n",
            "   [0 1 0]]\n",
            "\n",
            "  [[1 4 4]\n",
            "   [3 3 0]\n",
            "   [1 0 2]]\n",
            "\n",
            "  [[4 4 3]\n",
            "   [3 0 3]\n",
            "   [0 2 2]]]\n",
            "\n",
            "\n",
            " [[[0 2 0]\n",
            "   [2 2 1]\n",
            "   [2 4 3]]\n",
            "\n",
            "  [[2 0 0]\n",
            "   [2 1 3]\n",
            "   [4 3 2]]\n",
            "\n",
            "  [[0 0 3]\n",
            "   [1 3 4]\n",
            "   [3 2 1]]\n",
            "\n",
            "  [[0 3 1]\n",
            "   [3 4 0]\n",
            "   [2 1 4]]\n",
            "\n",
            "  [[3 1 3]\n",
            "   [4 0 1]\n",
            "   [1 4 0]]\n",
            "\n",
            "  [[1 3 3]\n",
            "   [0 1 0]\n",
            "   [4 0 4]]\n",
            "\n",
            "  [[3 3 0]\n",
            "   [1 0 2]\n",
            "   [0 4 2]]\n",
            "\n",
            "  [[3 0 3]\n",
            "   [0 2 2]\n",
            "   [4 2 3]]]\n",
            "\n",
            "\n",
            " [[[2 2 1]\n",
            "   [2 4 3]\n",
            "   [4 0 1]]\n",
            "\n",
            "  [[2 1 3]\n",
            "   [4 3 2]\n",
            "   [0 1 2]]\n",
            "\n",
            "  [[1 3 4]\n",
            "   [3 2 1]\n",
            "   [1 2 0]]\n",
            "\n",
            "  [[3 4 0]\n",
            "   [2 1 4]\n",
            "   [2 0 3]]\n",
            "\n",
            "  [[4 0 1]\n",
            "   [1 4 0]\n",
            "   [0 3 1]]\n",
            "\n",
            "  [[0 1 0]\n",
            "   [4 0 4]\n",
            "   [3 1 2]]\n",
            "\n",
            "  [[1 0 2]\n",
            "   [0 4 2]\n",
            "   [1 2 2]]\n",
            "\n",
            "  [[0 2 2]\n",
            "   [4 2 3]\n",
            "   [2 2 3]]]]\n",
            "[[[[4 3 3]\n",
            "   [1 4 0]\n",
            "   [0 4 4]]\n",
            "\n",
            "  [[3 3 0]\n",
            "   [4 0 1]\n",
            "   [4 4 1]]\n",
            "\n",
            "  [[3 0 4]\n",
            "   [0 1 2]\n",
            "   [4 1 3]]\n",
            "\n",
            "  [[0 4 0]\n",
            "   [1 2 0]\n",
            "   [1 3 2]]\n",
            "\n",
            "  [[4 0 0]\n",
            "   [2 0 3]\n",
            "   [3 2 0]]\n",
            "\n",
            "  [[0 0 0]\n",
            "   [0 3 0]\n",
            "   [2 0 0]]\n",
            "\n",
            "  [[0 0 0]\n",
            "   [3 0 3]\n",
            "   [0 0 4]]\n",
            "\n",
            "  [[0 0 0]\n",
            "   [0 3 2]\n",
            "   [0 4 4]]]\n",
            "\n",
            "\n",
            " [[[1 4 0]\n",
            "   [0 4 4]\n",
            "   [2 3 1]]\n",
            "\n",
            "  [[4 0 1]\n",
            "   [4 4 1]\n",
            "   [3 1 0]]\n",
            "\n",
            "  [[0 1 2]\n",
            "   [4 1 3]\n",
            "   [1 0 1]]\n",
            "\n",
            "  [[1 2 0]\n",
            "   [1 3 2]\n",
            "   [0 1 4]]\n",
            "\n",
            "  [[2 0 3]\n",
            "   [3 2 0]\n",
            "   [1 4 3]]\n",
            "\n",
            "  [[0 3 0]\n",
            "   [2 0 0]\n",
            "   [4 3 0]]\n",
            "\n",
            "  [[3 0 3]\n",
            "   [0 0 4]\n",
            "   [3 0 0]]\n",
            "\n",
            "  [[0 3 2]\n",
            "   [0 4 4]\n",
            "   [0 0 1]]]\n",
            "\n",
            "\n",
            " [[[0 4 4]\n",
            "   [2 3 1]\n",
            "   [1 0 2]]\n",
            "\n",
            "  [[4 4 1]\n",
            "   [3 1 0]\n",
            "   [0 2 4]]\n",
            "\n",
            "  [[4 1 3]\n",
            "   [1 0 1]\n",
            "   [2 4 1]]\n",
            "\n",
            "  [[1 3 2]\n",
            "   [0 1 4]\n",
            "   [4 1 3]]\n",
            "\n",
            "  [[3 2 0]\n",
            "   [1 4 3]\n",
            "   [1 3 2]]\n",
            "\n",
            "  [[2 0 0]\n",
            "   [4 3 0]\n",
            "   [3 2 0]]\n",
            "\n",
            "  [[0 0 4]\n",
            "   [3 0 0]\n",
            "   [2 0 3]]\n",
            "\n",
            "  [[0 4 4]\n",
            "   [0 0 1]\n",
            "   [0 3 1]]]\n",
            "\n",
            "\n",
            " [[[2 3 1]\n",
            "   [1 0 2]\n",
            "   [1 2 3]]\n",
            "\n",
            "  [[3 1 0]\n",
            "   [0 2 4]\n",
            "   [2 3 2]]\n",
            "\n",
            "  [[1 0 1]\n",
            "   [2 4 1]\n",
            "   [3 2 2]]\n",
            "\n",
            "  [[0 1 4]\n",
            "   [4 1 3]\n",
            "   [2 2 0]]\n",
            "\n",
            "  [[1 4 3]\n",
            "   [1 3 2]\n",
            "   [2 0 4]]\n",
            "\n",
            "  [[4 3 0]\n",
            "   [3 2 0]\n",
            "   [0 4 2]]\n",
            "\n",
            "  [[3 0 0]\n",
            "   [2 0 3]\n",
            "   [4 2 0]]\n",
            "\n",
            "  [[0 0 1]\n",
            "   [0 3 1]\n",
            "   [2 0 1]]]\n",
            "\n",
            "\n",
            " [[[1 0 2]\n",
            "   [1 2 3]\n",
            "   [3 2 2]]\n",
            "\n",
            "  [[0 2 4]\n",
            "   [2 3 2]\n",
            "   [2 2 2]]\n",
            "\n",
            "  [[2 4 1]\n",
            "   [3 2 2]\n",
            "   [2 2 3]]\n",
            "\n",
            "  [[4 1 3]\n",
            "   [2 2 0]\n",
            "   [2 3 3]]\n",
            "\n",
            "  [[1 3 2]\n",
            "   [2 0 4]\n",
            "   [3 3 2]]\n",
            "\n",
            "  [[3 2 0]\n",
            "   [0 4 2]\n",
            "   [3 2 3]]\n",
            "\n",
            "  [[2 0 3]\n",
            "   [4 2 0]\n",
            "   [2 3 0]]\n",
            "\n",
            "  [[0 3 1]\n",
            "   [2 0 1]\n",
            "   [3 0 0]]]\n",
            "\n",
            "\n",
            " [[[1 2 3]\n",
            "   [3 2 2]\n",
            "   [3 4 4]]\n",
            "\n",
            "  [[2 3 2]\n",
            "   [2 2 2]\n",
            "   [4 4 2]]\n",
            "\n",
            "  [[3 2 2]\n",
            "   [2 2 3]\n",
            "   [4 2 0]]\n",
            "\n",
            "  [[2 2 0]\n",
            "   [2 3 3]\n",
            "   [2 0 0]]\n",
            "\n",
            "  [[2 0 4]\n",
            "   [3 3 2]\n",
            "   [0 0 0]]\n",
            "\n",
            "  [[0 4 2]\n",
            "   [3 2 3]\n",
            "   [0 0 4]]\n",
            "\n",
            "  [[4 2 0]\n",
            "   [2 3 0]\n",
            "   [0 4 1]]\n",
            "\n",
            "  [[2 0 1]\n",
            "   [3 0 0]\n",
            "   [4 1 1]]]\n",
            "\n",
            "\n",
            " [[[3 2 2]\n",
            "   [3 4 4]\n",
            "   [1 0 2]]\n",
            "\n",
            "  [[2 2 2]\n",
            "   [4 4 2]\n",
            "   [0 2 2]]\n",
            "\n",
            "  [[2 2 3]\n",
            "   [4 2 0]\n",
            "   [2 2 3]]\n",
            "\n",
            "  [[2 3 3]\n",
            "   [2 0 0]\n",
            "   [2 3 2]]\n",
            "\n",
            "  [[3 3 2]\n",
            "   [0 0 0]\n",
            "   [3 2 2]]\n",
            "\n",
            "  [[3 2 3]\n",
            "   [0 0 4]\n",
            "   [2 2 3]]\n",
            "\n",
            "  [[2 3 0]\n",
            "   [0 4 1]\n",
            "   [2 3 3]]\n",
            "\n",
            "  [[3 0 0]\n",
            "   [4 1 1]\n",
            "   [3 3 1]]]\n",
            "\n",
            "\n",
            " [[[3 4 4]\n",
            "   [1 0 2]\n",
            "   [1 4 2]]\n",
            "\n",
            "  [[4 4 2]\n",
            "   [0 2 2]\n",
            "   [4 2 4]]\n",
            "\n",
            "  [[4 2 0]\n",
            "   [2 2 3]\n",
            "   [2 4 4]]\n",
            "\n",
            "  [[2 0 0]\n",
            "   [2 3 2]\n",
            "   [4 4 1]]\n",
            "\n",
            "  [[0 0 0]\n",
            "   [3 2 2]\n",
            "   [4 1 1]]\n",
            "\n",
            "  [[0 0 4]\n",
            "   [2 2 3]\n",
            "   [1 1 2]]\n",
            "\n",
            "  [[0 4 1]\n",
            "   [2 3 3]\n",
            "   [1 2 0]]\n",
            "\n",
            "  [[4 1 1]\n",
            "   [3 3 1]\n",
            "   [2 0 2]]]]\n"
          ]
        }
      ],
      "source": [
        "Z = np.random.randint(0,5,(10,10))\n",
        "n = 3\n",
        "i = 1 + (Z.shape[0]-3)\n",
        "j = 1 + (Z.shape[1]-3)\n",
        "C = stride_tricks.as_strided(Z, shape=(i, j, n, n), strides=Z.strides + Z.strides)\n",
        "print(C)\n",
        "Z = np.random.randint(0,5,(10,10))\n",
        "print(sliding_window_view(Z, window_shape=(3, 3)))"
      ]
    },
    {
      "cell_type": "markdown",
      "metadata": {
        "id": "KzhcJKwSGNHR"
      },
      "source": [
        "#### 85. Create a 2D array subclass such that Z\\[i,j\\] == Z\\[j,i\\] (★★★) \n",
        "(**hint**: class method)"
      ]
    },
    {
      "cell_type": "code",
      "execution_count": 63,
      "metadata": {
        "id": "Er7lDWOHGNHW",
        "colab": {
          "base_uri": "https://localhost:8080/"
        },
        "outputId": "6e7b780b-4f89-4dbc-dbe2-b71dec4e468c"
      },
      "outputs": [
        {
          "output_type": "stream",
          "name": "stdout",
          "text": [
            "[[ 7 10  8 13  7]\n",
            " [10  4  0 12 14]\n",
            " [ 8  0  2 42 10]\n",
            " [13 12 42  8  2]\n",
            " [ 7 14 10  2  5]]\n"
          ]
        }
      ],
      "source": [
        "class Symetric(np.ndarray):\n",
        "    def __setitem__(self, index, value):\n",
        "        i,j = index\n",
        "        super(Symetric, self).__setitem__((i,j), value)\n",
        "        super(Symetric, self).__setitem__((j,i), value)\n",
        "\n",
        "def symetric(Z):\n",
        "    return np.asarray(Z + Z.T - np.diag(Z.diagonal())).view(Symetric)\n",
        "\n",
        "S = symetric(np.random.randint(0,10,(5,5)))\n",
        "S[2,3] = 42\n",
        "print(S)"
      ]
    },
    {
      "cell_type": "markdown",
      "metadata": {
        "id": "VHnvzgAIGNHW"
      },
      "source": [
        "#### 86. Consider a set of p matrices wich shape (n,n) and a set of p vectors with shape (n,1). How to compute the sum of of the p matrix products at once? (result has shape (n,1)) (★★★) \n",
        "(**hint**: np.tensordot)"
      ]
    },
    {
      "cell_type": "code",
      "execution_count": 64,
      "metadata": {
        "id": "8uhFnT01GNHX",
        "colab": {
          "base_uri": "https://localhost:8080/"
        },
        "outputId": "90253ed3-90b9-467a-efce-eaa6bf7ceeab"
      },
      "outputs": [
        {
          "output_type": "stream",
          "name": "stdout",
          "text": [
            "[[200.]\n",
            " [200.]\n",
            " [200.]\n",
            " [200.]\n",
            " [200.]\n",
            " [200.]\n",
            " [200.]\n",
            " [200.]\n",
            " [200.]\n",
            " [200.]\n",
            " [200.]\n",
            " [200.]\n",
            " [200.]\n",
            " [200.]\n",
            " [200.]\n",
            " [200.]\n",
            " [200.]\n",
            " [200.]\n",
            " [200.]\n",
            " [200.]]\n"
          ]
        }
      ],
      "source": [
        "p, n = 10, 20\n",
        "M = np.ones((p,n,n))\n",
        "V = np.ones((p,n,1))\n",
        "S = np.tensordot(M, V, axes=[[0, 2], [0, 1]])\n",
        "print(S)"
      ]
    },
    {
      "cell_type": "markdown",
      "metadata": {
        "id": "wZ1A2TvjGNHY"
      },
      "source": [
        "#### 87. Consider a 16x16 array, how to get the block-sum (block size is 4x4)? (★★★) \n",
        "(**hint**: np.add.reduceat)"
      ]
    },
    {
      "cell_type": "code",
      "execution_count": 65,
      "metadata": {
        "id": "TfMCKDkmGNHZ",
        "colab": {
          "base_uri": "https://localhost:8080/"
        },
        "outputId": "e16d4415-2876-457d-f001-0704b57ada28"
      },
      "outputs": [
        {
          "output_type": "stream",
          "name": "stdout",
          "text": [
            "[[16. 16. 16. 16.]\n",
            " [16. 16. 16. 16.]\n",
            " [16. 16. 16. 16.]\n",
            " [16. 16. 16. 16.]]\n",
            "[[16. 16. 16. 16.]\n",
            " [16. 16. 16. 16.]\n",
            " [16. 16. 16. 16.]\n",
            " [16. 16. 16. 16.]]\n"
          ]
        }
      ],
      "source": [
        "Z = np.ones((16,16))\n",
        "k = 4\n",
        "S = np.add.reduceat(np.add.reduceat(Z, np.arange(0, Z.shape[0], k), axis=0),\n",
        "                                       np.arange(0, Z.shape[1], k), axis=1)\n",
        "print(S)\n",
        "Z = np.ones((16,16))\n",
        "k = 4\n",
        "windows = np.lib.stride_tricks.sliding_window_view(Z, (k, k))\n",
        "S = windows[::k, ::k, ...].sum(axis=(-2, -1))\n",
        "Z = np.ones((16, 16))\n",
        "k = 4\n",
        "print(sliding_window_view(Z, window_shape=(k, k))[::k, ::k].sum(axis=(-2, -1)))"
      ]
    },
    {
      "cell_type": "markdown",
      "metadata": {
        "id": "Dj-FIBQZGNHa"
      },
      "source": [
        "#### 88. How to implement the Game of Life using numpy arrays? (★★★)"
      ]
    },
    {
      "cell_type": "code",
      "execution_count": 67,
      "metadata": {
        "id": "Fz4wpmCpGNHa",
        "colab": {
          "base_uri": "https://localhost:8080/"
        },
        "outputId": "6c772c7a-04fa-401e-df44-d01d19a9817d"
      },
      "outputs": [
        {
          "output_type": "stream",
          "name": "stdout",
          "text": [
            "[[0 0 0 ... 0 0 0]\n",
            " [0 0 0 ... 0 0 0]\n",
            " [0 0 0 ... 0 0 0]\n",
            " ...\n",
            " [0 0 0 ... 0 0 0]\n",
            " [0 0 0 ... 0 0 0]\n",
            " [0 0 0 ... 0 0 0]]\n"
          ]
        }
      ],
      "source": [
        "def iterate(Z):\n",
        "    # Count neighbours\n",
        "    N = (Z[0:-2,0:-2] + Z[0:-2,1:-1] + Z[0:-2,2:] +\n",
        "         Z[1:-1,0:-2]                + Z[1:-1,2:] +\n",
        "         Z[2:  ,0:-2] + Z[2:  ,1:-1] + Z[2:  ,2:])\n",
        "\n",
        "    # Apply rules\n",
        "    birth = (N==3) & (Z[1:-1,1:-1]==0)\n",
        "    survive = ((N==2) | (N==3)) & (Z[1:-1,1:-1]==1)\n",
        "    Z[...] = 0\n",
        "    Z[1:-1,1:-1][birth | survive] = 1\n",
        "    return Z\n",
        "\n",
        "Z = np.random.randint(0,2,(50,50))\n",
        "for i in range(100): Z = iterate(Z)\n",
        "print(Z)"
      ]
    },
    {
      "cell_type": "markdown",
      "metadata": {
        "id": "Om34ntksGNHc"
      },
      "source": [
        "#### 89. How to get the n largest values of an array (★★★) \n",
        "(**hint**: np.argsort | np.argpartition)"
      ]
    },
    {
      "cell_type": "code",
      "execution_count": 68,
      "metadata": {
        "id": "sFVSJ5OAGNHd",
        "colab": {
          "base_uri": "https://localhost:8080/"
        },
        "outputId": "e3c70503-8017-47d0-d479-58e412b63896"
      },
      "outputs": [
        {
          "output_type": "stream",
          "name": "stdout",
          "text": [
            "[9995 9996 9997 9998 9999]\n",
            "[9999 9998 9997 9996 9995]\n"
          ]
        }
      ],
      "source": [
        " Z = np.arange(10000)\n",
        "np.random.shuffle(Z)\n",
        "n = 5\n",
        "\n",
        "# Slow\n",
        "print (Z[np.argsort(Z)[-n:]])\n",
        "\n",
        "# Fast\n",
        "print (Z[np.argpartition(-Z,n)[:n]])"
      ]
    },
    {
      "cell_type": "markdown",
      "metadata": {
        "id": "boSgtx3vGNHd"
      },
      "source": [
        "#### 90. Given an arbitrary number of vectors, build the cartesian product (every combinations of every item) (★★★) \n",
        "(**hint**: np.indices)"
      ]
    },
    {
      "cell_type": "code",
      "execution_count": 69,
      "metadata": {
        "scrolled": true,
        "id": "8n5ql4RjGNHe",
        "colab": {
          "base_uri": "https://localhost:8080/"
        },
        "outputId": "bdee0376-6957-4cb1-da3b-82bc17f2386f"
      },
      "outputs": [
        {
          "output_type": "stream",
          "name": "stdout",
          "text": [
            "[[1 4 6]\n",
            " [1 4 7]\n",
            " [1 5 6]\n",
            " [1 5 7]\n",
            " [2 4 6]\n",
            " [2 4 7]\n",
            " [2 5 6]\n",
            " [2 5 7]\n",
            " [3 4 6]\n",
            " [3 4 7]\n",
            " [3 5 6]\n",
            " [3 5 7]]\n"
          ]
        }
      ],
      "source": [
        "def cartesian(arrays):\n",
        "    arrays = [np.asarray(a) for a in arrays]\n",
        "    shape = (len(x) for x in arrays)\n",
        "\n",
        "    ix = np.indices(shape, dtype=int)\n",
        "    ix = ix.reshape(len(arrays), -1).T\n",
        "\n",
        "    for n, arr in enumerate(arrays):\n",
        "        ix[:, n] = arrays[n][ix[:, n]]\n",
        "\n",
        "    return ix\n",
        "\n",
        "print (cartesian(([1, 2, 3], [4, 5], [6, 7])))"
      ]
    },
    {
      "cell_type": "markdown",
      "metadata": {
        "id": "JJNIQgNsGNHe"
      },
      "source": [
        "#### 91. How to create a record array from a regular array? (★★★) \n",
        "(**hint**: np.core.records.fromarrays)"
      ]
    },
    {
      "cell_type": "code",
      "execution_count": 70,
      "metadata": {
        "id": "MmgNaY33GNHe",
        "colab": {
          "base_uri": "https://localhost:8080/"
        },
        "outputId": "32277067-4f45-4011-bf90-c3350a314a40"
      },
      "outputs": [
        {
          "output_type": "stream",
          "name": "stdout",
          "text": [
            "[(b'Hello', 2.5, 3) (b'World', 3.6, 2)]\n"
          ]
        }
      ],
      "source": [
        "Z = np.array([(\"Hello\", 2.5, 3),\n",
        "              (\"World\", 3.6, 2)])\n",
        "R = np.core.records.fromarrays(Z.T,\n",
        "                               names='col1, col2, col3',\n",
        "                               formats = 'S8, f8, i8')\n",
        "print(R)"
      ]
    },
    {
      "cell_type": "markdown",
      "metadata": {
        "id": "kRa9pJ6wGNHf"
      },
      "source": [
        "#### 92. Consider a large vector Z, compute Z to the power of 3 using 3 different methods (★★★) \n",
        "(**hint**: np.power, \\*, np.einsum)"
      ]
    },
    {
      "cell_type": "code",
      "execution_count": 71,
      "metadata": {
        "id": "QBvDUcUGGNHf",
        "colab": {
          "base_uri": "https://localhost:8080/"
        },
        "outputId": "149e7847-d868-4f7f-986b-bdb9ad66aa6b"
      },
      "outputs": [
        {
          "output_type": "stream",
          "name": "stdout",
          "text": [
            "3.7 s ± 8.63 ms per loop (mean ± std. dev. of 7 runs, 1 loop each)\n",
            "134 ms ± 1.36 ms per loop (mean ± std. dev. of 7 runs, 10 loops each)\n",
            "115 ms ± 643 µs per loop (mean ± std. dev. of 7 runs, 10 loops each)\n"
          ]
        }
      ],
      "source": [
        "x = np.random.rand(int(5e7))\n",
        "\n",
        "%timeit np.power(x,3)\n",
        "%timeit x*x*x\n",
        "%timeit np.einsum('i,i,i->i',x,x,x)"
      ]
    },
    {
      "cell_type": "markdown",
      "metadata": {
        "id": "YxMWQt2DGNHf"
      },
      "source": [
        "#### 93. Consider two arrays A and B of shape (8,3) and (2,2). How to find rows of A that contain elements of each row of B regardless of the order of the elements in B? (★★★) \n",
        "(**hint**: np.where)"
      ]
    },
    {
      "cell_type": "code",
      "execution_count": 72,
      "metadata": {
        "id": "qTQJKwa8GNHg",
        "colab": {
          "base_uri": "https://localhost:8080/"
        },
        "outputId": "69ff69fe-3105-44e2-cbd7-f3a7a89fc54b"
      },
      "outputs": [
        {
          "output_type": "stream",
          "name": "stdout",
          "text": [
            "[1 2 3 5 7]\n"
          ]
        }
      ],
      "source": [
        "A = np.random.randint(0,5,(8,3))\n",
        "B = np.random.randint(0,5,(2,2))\n",
        "\n",
        "C = (A[..., np.newaxis, np.newaxis] == B)\n",
        "rows = np.where(C.any((3,1)).all(1))[0]\n",
        "print(rows)"
      ]
    },
    {
      "cell_type": "markdown",
      "metadata": {
        "id": "dk_BcSMtGNHx"
      },
      "source": [
        "#### 94. Considering a 10x3 matrix, extract rows with unequal values (e.g. \\[2,2,3\\]) (★★★)"
      ]
    },
    {
      "cell_type": "code",
      "execution_count": 73,
      "metadata": {
        "id": "P0hVBUy_GNHy",
        "colab": {
          "base_uri": "https://localhost:8080/"
        },
        "outputId": "017a3acd-581a-4922-d3ec-d80a614ce3e1"
      },
      "outputs": [
        {
          "output_type": "stream",
          "name": "stdout",
          "text": [
            "[[4 3 1]\n",
            " [3 4 0]\n",
            " [1 0 3]\n",
            " [1 1 3]\n",
            " [0 1 1]\n",
            " [3 4 2]\n",
            " [0 0 2]\n",
            " [2 2 0]\n",
            " [1 0 2]\n",
            " [2 3 1]]\n",
            "[[4 3 1]\n",
            " [3 4 0]\n",
            " [1 0 3]\n",
            " [1 1 3]\n",
            " [0 1 1]\n",
            " [3 4 2]\n",
            " [0 0 2]\n",
            " [2 2 0]\n",
            " [1 0 2]\n",
            " [2 3 1]]\n",
            "[[4 3 1]\n",
            " [3 4 0]\n",
            " [1 0 3]\n",
            " [1 1 3]\n",
            " [0 1 1]\n",
            " [3 4 2]\n",
            " [0 0 2]\n",
            " [2 2 0]\n",
            " [1 0 2]\n",
            " [2 3 1]]\n"
          ]
        }
      ],
      "source": [
        "Z = np.random.randint(0,5,(10,3))\n",
        "print(Z)\n",
        "# solution for arrays of all dtypes (including string arrays and record arrays)\n",
        "E = np.all(Z[:,1:] == Z[:,:-1], axis=1)\n",
        "U = Z[~E]\n",
        "print(U)\n",
        "# soluiton for numerical arrays only, will work for any number of columns in Z\n",
        "U = Z[Z.max(axis=1) != Z.min(axis=1),:]\n",
        "print(U)"
      ]
    },
    {
      "cell_type": "markdown",
      "metadata": {
        "id": "t0IOOg6ZGNHy"
      },
      "source": [
        "#### 95. Convert a vector of ints into a matrix binary representation (★★★) \n",
        "(**hint**: np.unpackbits)"
      ]
    },
    {
      "cell_type": "code",
      "execution_count": 74,
      "metadata": {
        "id": "45AV6ppuGNHz",
        "colab": {
          "base_uri": "https://localhost:8080/"
        },
        "outputId": "7f3d7c29-5a93-4829-9ded-368769f28d44"
      },
      "outputs": [
        {
          "output_type": "stream",
          "name": "stdout",
          "text": [
            "[[0 0 0 0 0 0 0 0]\n",
            " [0 0 0 0 0 0 0 1]\n",
            " [0 0 0 0 0 0 1 0]\n",
            " [0 0 0 0 0 0 1 1]\n",
            " [0 0 0 0 1 1 1 1]\n",
            " [0 0 0 1 0 0 0 0]\n",
            " [0 0 1 0 0 0 0 0]\n",
            " [0 1 0 0 0 0 0 0]\n",
            " [1 0 0 0 0 0 0 0]]\n",
            "[[0 0 0 0 0 0 0 0]\n",
            " [0 0 0 0 0 0 0 1]\n",
            " [0 0 0 0 0 0 1 0]\n",
            " [0 0 0 0 0 0 1 1]\n",
            " [0 0 0 0 1 1 1 1]\n",
            " [0 0 0 1 0 0 0 0]\n",
            " [0 0 1 0 0 0 0 0]\n",
            " [0 1 0 0 0 0 0 0]\n",
            " [1 0 0 0 0 0 0 0]]\n"
          ]
        }
      ],
      "source": [
        "I = np.array([0, 1, 2, 3, 15, 16, 32, 64, 128])\n",
        "B = ((I.reshape(-1,1) & (2**np.arange(8))) != 0).astype(int)\n",
        "print(B[:,::-1])\n",
        "I = np.array([0, 1, 2, 3, 15, 16, 32, 64, 128], dtype=np.uint8)\n",
        "print(np.unpackbits(I[:, np.newaxis], axis=1))"
      ]
    },
    {
      "cell_type": "markdown",
      "metadata": {
        "id": "E1GNkgtaGNHz"
      },
      "source": [
        "#### 96. Given a two dimensional array, how to extract unique rows? (★★★) \n",
        "(**hint**: np.ascontiguousarray)"
      ]
    },
    {
      "cell_type": "code",
      "execution_count": 75,
      "metadata": {
        "id": "5w7a78x_GNHz",
        "colab": {
          "base_uri": "https://localhost:8080/"
        },
        "outputId": "0344c148-2d2f-4fc4-9ec2-32040fe42b14"
      },
      "outputs": [
        {
          "output_type": "stream",
          "name": "stdout",
          "text": [
            "[[0 0 0]\n",
            " [1 0 0]\n",
            " [1 0 1]\n",
            " [1 1 0]]\n",
            "[[0 0 0]\n",
            " [1 0 0]\n",
            " [1 0 1]\n",
            " [1 1 0]]\n"
          ]
        }
      ],
      "source": [
        "Z = np.random.randint(0,2,(6,3))\n",
        "T = np.ascontiguousarray(Z).view(np.dtype((np.void, Z.dtype.itemsize * Z.shape[1])))\n",
        "_, idx = np.unique(T, return_index=True)\n",
        "uZ = Z[idx]\n",
        "print(uZ)\n",
        "uZ = np.unique(Z, axis=0)\n",
        "print(uZ)"
      ]
    },
    {
      "cell_type": "markdown",
      "metadata": {
        "id": "D03_uldtGNHz"
      },
      "source": [
        "#### 97. Considering 2 vectors A & B, write the einsum equivalent of inner, outer, sum, and mul function (★★★) \n",
        "(**hint**: np.einsum)"
      ]
    },
    {
      "cell_type": "code",
      "execution_count": 76,
      "metadata": {
        "id": "xlhtMlf-GNH0",
        "colab": {
          "base_uri": "https://localhost:8080/"
        },
        "outputId": "de49f741-d421-47cc-982a-3b22abcae0b0"
      },
      "outputs": [
        {
          "output_type": "execute_result",
          "data": {
            "text/plain": [
              "array([[0.0153402 , 0.01785733, 0.09325043, 0.2139643 , 0.11805145,\n",
              "        0.08713298, 0.19386101, 0.21945152, 0.17970396, 0.22489076],\n",
              "       [0.02963618, 0.03449909, 0.18015317, 0.41336375, 0.22806698,\n",
              "        0.16833469, 0.37452563, 0.42396468, 0.34717523, 0.43447289],\n",
              "       [0.03706065, 0.04314181, 0.22528524, 0.51691985, 0.28520243,\n",
              "        0.21050599, 0.46835197, 0.53017652, 0.43414974, 0.54331726],\n",
              "       [0.05813471, 0.06767385, 0.35339079, 0.81085966, 0.44737912,\n",
              "        0.3302075 , 0.73467429, 0.83165457, 0.68102339, 0.85226762],\n",
              "       [0.03890608, 0.04529006, 0.2365033 , 0.54265983, 0.29940406,\n",
              "        0.22098811, 0.49167352, 0.55657661, 0.45576818, 0.57037169],\n",
              "       [0.00611694, 0.00712065, 0.03718381, 0.08531873, 0.04707327,\n",
              "        0.03474446, 0.0773025 , 0.08750677, 0.07165734, 0.08967568],\n",
              "       [0.04363155, 0.05079091, 0.26522859, 0.60857038, 0.33576917,\n",
              "        0.24782896, 0.55139136, 0.62417748, 0.51112502, 0.63964808],\n",
              "       [0.02416246, 0.0281272 , 0.14687938, 0.33701661, 0.18594363,\n",
              "        0.13724374, 0.30535178, 0.34565957, 0.28305292, 0.35422694],\n",
              "       [0.04127058, 0.04804254, 0.25087667, 0.57563971, 0.31760019,\n",
              "        0.23441855, 0.52155473, 0.59040228, 0.48346727, 0.60503575],\n",
              "       [0.02826325, 0.03290087, 0.17180735, 0.39421417, 0.21750149,\n",
              "        0.16053638, 0.35717526, 0.40432399, 0.3310919 , 0.4143454 ]])"
            ]
          },
          "metadata": {},
          "execution_count": 76
        }
      ],
      "source": [
        "A = np.random.uniform(0,1,10)\n",
        "B = np.random.uniform(0,1,10)\n",
        "\n",
        "np.einsum('i->', A)       # np.sum(A)\n",
        "np.einsum('i,i->i', A, B) # A * B\n",
        "np.einsum('i,i', A, B)    # np.inner(A, B)\n",
        "np.einsum('i,j->ij', A, B)    # np.outer(A, B)"
      ]
    },
    {
      "cell_type": "markdown",
      "metadata": {
        "id": "W-aRIRbfGNH0"
      },
      "source": [
        "#### 98. Considering a path described by two vectors (X,Y), how to sample it using equidistant samples (★★★)? \n",
        "(**hint**: np.cumsum, np.interp)"
      ]
    },
    {
      "cell_type": "code",
      "execution_count": 77,
      "metadata": {
        "collapsed": true,
        "id": "iFHT4agTGNH0"
      },
      "outputs": [],
      "source": [
        "phi = np.arange(0, 10*np.pi, 0.1)\n",
        "a = 1\n",
        "x = a*phi*np.cos(phi)\n",
        "y = a*phi*np.sin(phi)\n",
        "\n",
        "dr = (np.diff(x)**2 + np.diff(y)**2)**.5 # segment lengths\n",
        "r = np.zeros_like(x)\n",
        "r[1:] = np.cumsum(dr)                # integrate path\n",
        "r_int = np.linspace(0, r.max(), 200) # regular spaced path\n",
        "x_int = np.interp(r_int, r, x)       # integrate path\n",
        "y_int = np.interp(r_int, r, y)"
      ]
    },
    {
      "cell_type": "markdown",
      "metadata": {
        "id": "NNsjVGVfGNH1"
      },
      "source": [
        "#### 99. Given an integer n and a 2D array X, select from X the rows which can be interpreted as draws from a multinomial distribution with n degrees, i.e., the rows which only contain integers and which sum to n. (★★★) \n",
        "(**hint**: np.logical\\_and.reduce, np.mod)"
      ]
    },
    {
      "cell_type": "code",
      "execution_count": 78,
      "metadata": {
        "id": "7WpHuhrxGNH1",
        "colab": {
          "base_uri": "https://localhost:8080/"
        },
        "outputId": "e5a129f6-3580-4cf1-86c9-aa0aacfe6206"
      },
      "outputs": [
        {
          "output_type": "stream",
          "name": "stdout",
          "text": [
            "[[2. 0. 1. 1.]]\n"
          ]
        }
      ],
      "source": [
        "X = np.asarray([[1.0, 0.0, 3.0, 8.0],\n",
        "                [2.0, 0.0, 1.0, 1.0],\n",
        "                [1.5, 2.5, 1.0, 0.0]])\n",
        "n = 4\n",
        "M = np.logical_and.reduce(np.mod(X, 1) == 0, axis=-1)\n",
        "M &= (X.sum(axis=-1) == n)\n",
        "print(X[M])"
      ]
    },
    {
      "cell_type": "markdown",
      "metadata": {
        "id": "Rc9m0S8QGNH1"
      },
      "source": [
        "#### 100. Compute bootstrapped 95% confidence intervals for the mean of a 1D array X (i.e., resample the elements of an array with replacement N times, compute the mean of each sample, and then compute percentiles over the means). (★★★) \n",
        "(**hint**: np.percentile)"
      ]
    },
    {
      "cell_type": "code",
      "execution_count": 79,
      "metadata": {
        "id": "9hSVFOyIGNH2",
        "colab": {
          "base_uri": "https://localhost:8080/"
        },
        "outputId": "87ae062d-0d41-4d00-f22b-05f88025e0ff"
      },
      "outputs": [
        {
          "output_type": "stream",
          "name": "stdout",
          "text": [
            "[-0.16807706  0.23986469]\n"
          ]
        }
      ],
      "source": [
        "X = np.random.randn(100) # random 1D array\n",
        "N = 1000 # number of bootstrap samples\n",
        "idx = np.random.randint(0, X.size, (N, X.size))\n",
        "means = X[idx].mean(axis=1)\n",
        "confint = np.percentile(means, [2.5, 97.5])\n",
        "print(confint)"
      ]
    }
  ],
  "metadata": {
    "kernelspec": {
      "display_name": "Python 3",
      "language": "python",
      "name": "python3"
    },
    "language_info": {
      "codemirror_mode": {
        "name": "ipython",
        "version": 3
      },
      "file_extension": ".py",
      "mimetype": "text/x-python",
      "name": "python",
      "nbconvert_exporter": "python",
      "pygments_lexer": "ipython3",
      "version": "3.8.3"
    },
    "colab": {
      "provenance": [],
      "collapsed_sections": [
        "Krpb8xLOGNFE",
        "dtoqea-wGNFL",
        "YUJTTbiwGNFN",
        "4IIeLWW8GNFP",
        "G4TpnjiKGNFS",
        "LU3Id6frGNFa",
        "Iko-ruagGNFb",
        "ZNTn1j3hGNFd",
        "7-1OnkrsGNFe",
        "KAHwpV3cGNFf",
        "V-SL3QlEGNFi",
        "wFoXIHkSGNFj",
        "vjb2_OBjGNFk",
        "CPR_tf1fGNFm",
        "3oa--rk6GNFp",
        "-_O59JmxGNFr",
        "ka9Z5fFNGNFs",
        "WiWFAshLGNFt",
        "oHYfrWG6GNFx"
      ],
      "include_colab_link": true
    }
  },
  "nbformat": 4,
  "nbformat_minor": 0
}